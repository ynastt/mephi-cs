{
 "cells": [
  {
   "cell_type": "code",
   "execution_count": 3,
   "id": "9830e610-f863-4e6d-9699-fed48538a97a",
   "metadata": {},
   "outputs": [
    {
     "name": "stdout",
     "output_type": "stream",
     "text": [
      "F-Score: 1.2804878048780488\n",
      "Critical F-Score: 3.6823203436732412\n",
      "Нельзя отклонить нулевую гипотезу\n",
      "P-Value : 0.306598231235083\n",
      "Нельзя отклонить нулевую гипотезу\n"
     ]
    }
   ],
   "source": [
    "import numpy as np\n",
    "import pandas as pd\n",
    "import scipy.stats as stats\n",
    "X1 = np.array([8, 12, 18, 8, 6, 11])\n",
    "X2 = np.array([6, 9, 7, 10, 9, 7])\n",
    "X3 = np.array([11, 8, 7, 11, 7, 7])\n",
    "df = pd.DataFrame()\n",
    "alpha = 0.05\n",
    "df['X1'] = X1\n",
    "df['X2'] = X2\n",
    "df['X3'] = X3\n",
    "X = np.array([df['X1'].mean(), df['X2'].mean(),df['X3'].mean()])\n",
    "mean_all = X.mean()\n",
    "df_b = len(df.columns) - 1\n",
    "S_b = 0\n",
    "for i in X:\n",
    "    S_b = S_b + len(df)*(i - mean_all)**2\n",
    "S_b = S_b/df_b\n",
    "df_e = len(df.columns)*(len(df)-1)\n",
    "S_e = 0\n",
    "for i in df.columns:\n",
    "    df[i] = (df[i]-df[i].mean())**2\n",
    "    S_e = S_e + df[i].sum()\n",
    "S_e = S_e/df_e\n",
    "F_score = S_b/S_e\n",
    "print('F-Score:', F_score)\n",
    "\n",
    "# Принятие решения на основе критического значения F\n",
    "F_critical = stats.f.ppf(1 - alpha, dfn = df_b, dfd = df_e)\n",
    "print('Critical F-Score:', F_critical)\n",
    "if np.abs(F_score) > F_critical:\n",
    "    print(\"Отклонить нулевую гипотезу\")\n",
    "else:\n",
    "    print(\"Нельзя отклонить нулевую гипотезу\")\n",
    "\n",
    "# Принятие решения на основе p-значения\n",
    "p_value = 1 - stats.f.cdf(np.abs(F_score), dfn = df_b, dfd = df_e)\n",
    "print('P-Value :',p_value)\n",
    "if p_value < alpha:\n",
    "    print(\"Отклонить нулевую гипотезу\")\n",
    "else:\n",
    "    print(\"Нельзя отклонить нулевую гипотезу\")\n"
   ]
  },
  {
   "cell_type": "code",
   "execution_count": 5,
   "id": "5af3c126-ad6b-4c0b-b92e-a623dcd54e1c",
   "metadata": {},
   "outputs": [
    {
     "name": "stdout",
     "output_type": "stream",
     "text": [
      "Нельзя отклонить нулевую гипотезу\n"
     ]
    }
   ],
   "source": [
    "import numpy as np\n",
    "import scipy.stats as stats\n",
    "X1 = np.array([8, 12, 18, 8, 6, 11])\n",
    "X2 = np.array([6, 9, 7, 10, 9, 7])\n",
    "X3 = np.array([11, 8, 7, 11, 7, 7])\n",
    "res = stats.f_oneway(X1, X2, X3)\n",
    "alpha = 0.05\n",
    "if res.pvalue < alpha:\n",
    "    print(\"Отклонить нулевую гипотезу\")\n",
    "else:\n",
    "    print(\"Нельзя отклонить нулевую гипотезу\")"
   ]
  },
  {
   "cell_type": "code",
   "execution_count": 9,
   "id": "a75ff4cd-e2e7-43f2-bd22-318080afe257",
   "metadata": {},
   "outputs": [
    {
     "name": "stdout",
     "output_type": "stream",
     "text": [
      "                sum_sq   df         F    PR(>F)\n",
      "Diet          4.676333  2.0  9.169281  0.052715\n",
      "Workout       4.521333  2.0  8.865359  0.055050\n",
      "Diet:Workout  0.603667  4.0  0.591830  0.694337\n",
      "Residual      0.765000  3.0       NaN       NaN\n"
     ]
    }
   ],
   "source": [
    "import pandas as pd\n",
    "import statsmodels.api as sm\n",
    "from statsmodels.formula.api import ols\n",
    "from statsmodels.stats.anova import anova_lm\n",
    "\n",
    "data = {\n",
    "    'Diet': ['A', 'A', 'A', 'A', 'B', 'B', 'B', 'B', 'C', 'C', 'C', 'C'],\n",
    "    'Workout': ['Low', 'Medium', 'High', 'Low', 'Medium', 'High', 'Low', 'Medium', 'High', 'Low', 'Medium', 'High'],\n",
    "    'WeightLoss': [3, 4, 5, 3.2, 5, 6, 5.2, 6, 5.5, 4, 5.5, 6.2]\n",
    "}\n",
    "df = pd.DataFrame(data)\n",
    "model = ols('WeightLoss ~ Diet + Workout + Diet:Workout', data=df).fit()\n",
    "anova_results = anova_lm(model, typ=2)\n",
    "print(anova_results)"
   ]
  },
  {
   "cell_type": "code",
   "execution_count": null,
   "id": "c3a07ef4-111e-42a1-9283-c5a46cb76abe",
   "metadata": {},
   "outputs": [],
   "source": []
  }
 ],
 "metadata": {
  "kernelspec": {
   "display_name": "Python 3 (ipykernel)",
   "language": "python",
   "name": "python3"
  },
  "language_info": {
   "codemirror_mode": {
    "name": "ipython",
    "version": 3
   },
   "file_extension": ".py",
   "mimetype": "text/x-python",
   "name": "python",
   "nbconvert_exporter": "python",
   "pygments_lexer": "ipython3",
   "version": "3.12.4"
  }
 },
 "nbformat": 4,
 "nbformat_minor": 5
}

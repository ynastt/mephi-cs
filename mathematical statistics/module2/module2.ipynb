{
 "cells": [
  {
   "cell_type": "markdown",
   "id": "39b9870c-f986-40ad-b5d6-5937f1b2826c",
   "metadata": {},
   "source": [
    "## Задание 7.1\n",
    "Пусть X — номер этажа, на который хочет поехать человек из подземного гаража («нулевого этажа») в многоквартирном пятидесятиэтажном доме, используя лифт «для жильцов», который ведёт к этажам с 10 по 19 и с 35 по 44 включительно. Для случайной величины X найдите её дисперсию. Если ответ — дробное число, в качестве разделителя используйте точку."
   ]
  },
  {
   "cell_type": "code",
   "execution_count": 4,
   "id": "8adab7f9-2cdd-48d3-91e9-181735770147",
   "metadata": {},
   "outputs": [
    {
     "data": {
      "text/plain": [
       "164.5"
      ]
     },
     "execution_count": 4,
     "metadata": {},
     "output_type": "execute_result"
    }
   ],
   "source": [
    "# дисперсия - var\n",
    "def var(X):\n",
    "    Xmean = sum(X) / len(X)\n",
    "    var = sum([(x - Xmean)**2 for x in X]) / len(X)\n",
    "    return var\n",
    "    \n",
    "# этажи\n",
    "X = [10, 11, 12, 13, 14, 15, 16, 17, 18, 19, 35, 36, 37, 38, 39, 40, 41, 42, 43, 44]\n",
    "\n",
    "var(X)"
   ]
  },
  {
   "cell_type": "markdown",
   "id": "2dd3caac-50a9-4ce6-906c-81ae252c9963",
   "metadata": {},
   "source": [
    "## Задание 7.2  \n",
    "На пути движения автомобиля установлено бесконечно много светофоров. Порядок переключения светофоров: зелёный свет горит 27 секунд, жёлтый — 3 сек., красный — 17 сек., жёлтый — 3 сек., затем снова зелёный и т. д. Для случайной величины X — числа светофоров, пройденных автомобилем до первой остановки, найдите её дисперсию. Если ответ — дробное число, в качестве разделителя используйте точку."
   ]
  },
  {
   "cell_type": "code",
   "execution_count": 3,
   "id": "0f79486f-2623-4932-b327-c4db4a8eac2b",
   "metadata": {},
   "outputs": [
    {
     "data": {
      "text/plain": [
       "3.75"
      ]
     },
     "execution_count": 3,
     "metadata": {},
     "output_type": "execute_result"
    }
   ],
   "source": [
    "import scipy.stats as stats\n",
    "var = stats.geom.stats(0.4, moments='v')\n",
    "round(var, 2)"
   ]
  },
  {
   "cell_type": "markdown",
   "id": "8b291160-c972-463b-be1e-0858699b3807",
   "metadata": {},
   "source": [
    "## Задание 7.3  \n",
    "Число атак истребителей, которым может подвергнуться бомбардировщик над территорией противника, есть случайная величина X, распределённая по закону Пуассона с математическим ожиданием M = 4. Каждая атака с вероятностью 0.2 заканчивается поражением бомбардировщика. Определите вероятность поражения бомбардировщика в результате двух атак. Ответ округлите до трёх знаков после точки, используемой в качестве разделителя."
   ]
  },
  {
   "cell_type": "code",
   "execution_count": 5,
   "id": "9a0388a4-bb2d-4f6d-922a-4a214e6a5590",
   "metadata": {},
   "outputs": [
    {
     "data": {
      "text/plain": [
       "0.053"
      ]
     },
     "execution_count": 5,
     "metadata": {},
     "output_type": "execute_result"
    }
   ],
   "source": [
    "# pmf - (probability mass function) — это функция, которая возвращает вероятность того, что случайная величина примет определённое значение.\n",
    "# Закон Пуассона\n",
    "# Вероятность поражения в результате двух атак (<=2): 0.8 * 0.2 (не поразил, поразил) + 0.2 (поражен с первой атаки)\n",
    "round(stats.poisson.pmf(k=2, mu=4) * (0.2 + 0.2*0.8), 3)"
   ]
  },
  {
   "cell_type": "markdown",
   "id": "e3e3c82c-f6c5-46d9-bc6c-86df5251c3d4",
   "metadata": {},
   "source": [
    "## Задания 7.4 - 7.12"
   ]
  },
  {
   "cell_type": "code",
   "execution_count": 5,
   "id": "9d49167a-3c9c-4182-82ad-c1af62a94f5c",
   "metadata": {},
   "outputs": [],
   "source": [
    "import numpy as np\n",
    "import pandas as pd\n",
    "import matplotlib.pyplot as plt\n",
    "import scipy.stats as stats\n",
    "from scipy.stats import norm, expon, uniform, binom, hypergeom"
   ]
  },
  {
   "cell_type": "code",
   "execution_count": 2,
   "id": "f2c75bf9-98a7-4d17-9402-1e9f51a520c6",
   "metadata": {},
   "outputs": [
    {
     "data": {
      "text/html": [
       "<div>\n",
       "<style scoped>\n",
       "    .dataframe tbody tr th:only-of-type {\n",
       "        vertical-align: middle;\n",
       "    }\n",
       "\n",
       "    .dataframe tbody tr th {\n",
       "        vertical-align: top;\n",
       "    }\n",
       "\n",
       "    .dataframe thead th {\n",
       "        text-align: right;\n",
       "    }\n",
       "</style>\n",
       "<table border=\"1\" class=\"dataframe\">\n",
       "  <thead>\n",
       "    <tr style=\"text-align: right;\">\n",
       "      <th></th>\n",
       "      <th>column_1</th>\n",
       "      <th>column_2</th>\n",
       "      <th>column_3</th>\n",
       "      <th>column_4</th>\n",
       "      <th>column_5</th>\n",
       "      <th>column_6</th>\n",
       "    </tr>\n",
       "  </thead>\n",
       "  <tbody>\n",
       "    <tr>\n",
       "      <th>0</th>\n",
       "      <td>27.596143</td>\n",
       "      <td>218</td>\n",
       "      <td>28</td>\n",
       "      <td>-20.746787</td>\n",
       "      <td>15.840945</td>\n",
       "      <td>48</td>\n",
       "    </tr>\n",
       "    <tr>\n",
       "      <th>1</th>\n",
       "      <td>33.838907</td>\n",
       "      <td>231</td>\n",
       "      <td>25</td>\n",
       "      <td>-6.419991</td>\n",
       "      <td>19.347807</td>\n",
       "      <td>42</td>\n",
       "    </tr>\n",
       "    <tr>\n",
       "      <th>2</th>\n",
       "      <td>29.024062</td>\n",
       "      <td>226</td>\n",
       "      <td>38</td>\n",
       "      <td>4.472388</td>\n",
       "      <td>15.770979</td>\n",
       "      <td>44</td>\n",
       "    </tr>\n",
       "    <tr>\n",
       "      <th>3</th>\n",
       "      <td>28.462851</td>\n",
       "      <td>227</td>\n",
       "      <td>31</td>\n",
       "      <td>-9.647105</td>\n",
       "      <td>15.352260</td>\n",
       "      <td>41</td>\n",
       "    </tr>\n",
       "    <tr>\n",
       "      <th>4</th>\n",
       "      <td>34.734580</td>\n",
       "      <td>232</td>\n",
       "      <td>24</td>\n",
       "      <td>19.402531</td>\n",
       "      <td>15.060842</td>\n",
       "      <td>50</td>\n",
       "    </tr>\n",
       "    <tr>\n",
       "      <th>...</th>\n",
       "      <td>...</td>\n",
       "      <td>...</td>\n",
       "      <td>...</td>\n",
       "      <td>...</td>\n",
       "      <td>...</td>\n",
       "      <td>...</td>\n",
       "    </tr>\n",
       "    <tr>\n",
       "      <th>9995</th>\n",
       "      <td>26.404022</td>\n",
       "      <td>224</td>\n",
       "      <td>28</td>\n",
       "      <td>32.065897</td>\n",
       "      <td>20.925720</td>\n",
       "      <td>43</td>\n",
       "    </tr>\n",
       "    <tr>\n",
       "      <th>9996</th>\n",
       "      <td>34.087082</td>\n",
       "      <td>218</td>\n",
       "      <td>29</td>\n",
       "      <td>-5.273347</td>\n",
       "      <td>19.761991</td>\n",
       "      <td>51</td>\n",
       "    </tr>\n",
       "    <tr>\n",
       "      <th>9997</th>\n",
       "      <td>31.047074</td>\n",
       "      <td>234</td>\n",
       "      <td>29</td>\n",
       "      <td>8.477591</td>\n",
       "      <td>24.571603</td>\n",
       "      <td>43</td>\n",
       "    </tr>\n",
       "    <tr>\n",
       "      <th>9998</th>\n",
       "      <td>29.002059</td>\n",
       "      <td>216</td>\n",
       "      <td>31</td>\n",
       "      <td>7.320368</td>\n",
       "      <td>15.041266</td>\n",
       "      <td>42</td>\n",
       "    </tr>\n",
       "    <tr>\n",
       "      <th>9999</th>\n",
       "      <td>36.524241</td>\n",
       "      <td>220</td>\n",
       "      <td>31</td>\n",
       "      <td>12.230551</td>\n",
       "      <td>21.203195</td>\n",
       "      <td>43</td>\n",
       "    </tr>\n",
       "  </tbody>\n",
       "</table>\n",
       "<p>10000 rows × 6 columns</p>\n",
       "</div>"
      ],
      "text/plain": [
       "       column_1  column_2  column_3   column_4   column_5  column_6\n",
       "0     27.596143       218        28 -20.746787  15.840945        48\n",
       "1     33.838907       231        25  -6.419991  19.347807        42\n",
       "2     29.024062       226        38   4.472388  15.770979        44\n",
       "3     28.462851       227        31  -9.647105  15.352260        41\n",
       "4     34.734580       232        24  19.402531  15.060842        50\n",
       "...         ...       ...       ...        ...        ...       ...\n",
       "9995  26.404022       224        28  32.065897  20.925720        43\n",
       "9996  34.087082       218        29  -5.273347  19.761991        51\n",
       "9997  31.047074       234        29   8.477591  24.571603        43\n",
       "9998  29.002059       216        31   7.320368  15.041266        42\n",
       "9999  36.524241       220        31  12.230551  21.203195        43\n",
       "\n",
       "[10000 rows x 6 columns]"
      ]
     },
     "execution_count": 2,
     "metadata": {},
     "output_type": "execute_result"
    }
   ],
   "source": [
    "df = pd.read_csv('data.csv')\n",
    "df"
   ]
  },
  {
   "cell_type": "code",
   "execution_count": 14,
   "id": "d1f3bde4-3ade-47d9-b9ee-b25ff86e402d",
   "metadata": {},
   "outputs": [
    {
     "data": {
      "image/png": "[encoded data removed]",
      "text/plain": [
       "<Figure size 1000x600 with 1 Axes>"
      ]
     },
     "metadata": {},
     "output_type": "display_data"
    },
    {
     "name": "stdout",
     "output_type": "stream",
     "text": [
      "Дисперсия данных в колонке 'column_1': 25\n"
     ]
    }
   ],
   "source": [
    "data = df['column_1']\n",
    "\n",
    "# Визуальный анализ: гистограмма и кривая плотности\n",
    "plt.figure(figsize=(10, 6))\n",
    "plt.hist(data, bins=30, density=True, alpha=0.6, label='Гистограмма')\n",
    "\n",
    "# # Аппроксимация различными распределениями\n",
    "# distributions = [expon, norm, uniform, binom, hypergeom]\n",
    "# for dist in distributions:\n",
    "#     try:\n",
    "#         if dist == binom:\n",
    "#             # Биномиальное распределение требует n и p\n",
    "#             n = len(data)  # Это очень грубое приближение\n",
    "#             p = np.mean(data) / n\n",
    "#             params = (n, p)\n",
    "#             x = np.arange(0, n + 1)\n",
    "#             pdf_fitted = binom.pmf(x, *params)\n",
    "#             plt.plot(x, pdf_fitted, label=f'{dist.name}', drawstyle='steps-mid')\n",
    "#         elif dist == hypergeom:\n",
    "#             # Гипергеометрическое распределение требует N, K, n\n",
    "#             N = len(data) # это очень грубое приближение\n",
    "#             K = int(np.mean(data) ) # это очень грубое приближение\n",
    "#             n = len(data) # это очень грубое приближение\n",
    "\n",
    "#             params = (N,K,n)\n",
    "\n",
    "#             x = np.arange(0, n + 1)\n",
    "#             pdf_fitted = hypergeom.pmf(x, *params)\n",
    "#             plt.plot(x, pdf_fitted, label=f'{dist.name}', drawstyle='steps-mid')\n",
    "#         elif dist == uniform:\n",
    "#             # Равномерное распределение требует loc и scale\n",
    "#             params = uniform.fit(data)\n",
    "#             x = np.linspace(params[0], params[0] + params[1], 100)\n",
    "#             pdf_fitted = uniform.pdf(x, *params)\n",
    "#             plt.plot(x, pdf_fitted, label=f'{dist.name}')\n",
    "#         else:\n",
    "#             # Другие распределения (нормальное, экспоненциальное)\n",
    "#             params = dist.fit(data)\n",
    "#             x = np.sort(data)\n",
    "#             pdf_fitted = dist.pdf(x, *params)\n",
    "#             plt.plot(x, pdf_fitted, label=f'{dist.name}')\n",
    "\n",
    "#     except ValueError as e:\n",
    "#         print(f\"Ошибка при аппроксимации {dist.name}: {e}\")\n",
    "#         continue  # Переходим к следующему распределению, если возникла ошибка\n",
    "\n",
    "\n",
    "plt.xlabel('Значение')\n",
    "plt.ylabel('Плотность/Вероятность')\n",
    "plt.title('Гистограмма и кривые плотности вероятности')\n",
    "plt.legend()\n",
    "plt.show()\n",
    "\n",
    "# поиск дисперсии для данных из первой колонки\n",
    "# Вычисление дисперсии с помощью NumPy\n",
    "variance = np.var(data, ddof=1) # ddof=1 для несмещенной оценки дисперсии\n",
    "# Округление до целого числа\n",
    "print(f\"Дисперсия данных в колонке 'column_1': {int(round(variance))}\")"
   ]
  },
  {
   "cell_type": "markdown",
   "id": "ef588160-54c5-47ec-9289-afd6a32e4f9e",
   "metadata": {},
   "source": [
    "в 1 колонке распределение нормальное"
   ]
  },
  {
   "cell_type": "code",
   "execution_count": 9,
   "id": "d61b8489-8df8-4329-824b-07f3feef1bc9",
   "metadata": {},
   "outputs": [
    {
     "data": {
      "text/plain": [
       "(array([3.89610390e-05, 0.00000000e+00, 1.55844156e-04, 1.55844156e-04,\n",
       "        7.79220779e-04, 2.10389610e-03, 2.22077922e-03, 6.19480519e-03,\n",
       "        9.93506494e-03, 1.14935065e-02, 2.17012987e-02, 2.01038961e-02,\n",
       "        3.66233766e-02, 2.89480519e-02, 4.63246753e-02, 4.94805195e-02,\n",
       "        3.06233766e-02, 3.74025974e-02, 2.15844156e-02, 2.47402597e-02,\n",
       "        1.13376623e-02, 1.30909091e-02, 7.12987013e-03, 2.84415584e-03,\n",
       "        2.37662338e-03, 1.01298701e-03, 8.18181818e-04, 2.33766234e-04,\n",
       "        1.16883117e-04, 3.89610390e-05]),\n",
       " array([181.        , 183.56666667, 186.13333333, 188.7       ,\n",
       "        191.26666667, 193.83333333, 196.4       , 198.96666667,\n",
       "        201.53333333, 204.1       , 206.66666667, 209.23333333,\n",
       "        211.8       , 214.36666667, 216.93333333, 219.5       ,\n",
       "        222.06666667, 224.63333333, 227.2       , 229.76666667,\n",
       "        232.33333333, 234.9       , 237.46666667, 240.03333333,\n",
       "        242.6       , 245.16666667, 247.73333333, 250.3       ,\n",
       "        252.86666667, 255.43333333, 258.        ]),\n",
       " <BarContainer object of 30 artists>)"
      ]
     },
     "execution_count": 9,
     "metadata": {},
     "output_type": "execute_result"
    },
    {
     "data": {
      "image/png": "[encoded data removed]",
      "text/plain": [
       "<Figure size 1000x600 with 1 Axes>"
      ]
     },
     "metadata": {},
     "output_type": "display_data"
    }
   ],
   "source": [
    "data = df['column_2']\n",
    "\n",
    "# Визуальный анализ: гистограмма и кривая плотности\n",
    "plt.figure(figsize=(10, 6))\n",
    "plt.hist(data, bins=30, density=True, alpha=0.6, label='Гистограмма')"
   ]
  },
  {
   "cell_type": "markdown",
   "id": "58a3c8fc-cd66-4b6e-b100-0bd75deebe24",
   "metadata": {},
   "source": [
    "во 2 колонке распределение биномиальное"
   ]
  },
  {
   "cell_type": "code",
   "execution_count": 16,
   "id": "2d871270-06b6-4d15-bff9-550846b1f855",
   "metadata": {},
   "outputs": [
    {
     "name": "stdout",
     "output_type": "stream",
     "text": [
      "среднее значение (математическое ожидание) данных в колонке 'column_3': 30\n"
     ]
    },
    {
     "data": {
      "image/png": "[encoded data removed]",
      "text/plain": [
       "<Figure size 1000x600 with 1 Axes>"
      ]
     },
     "metadata": {},
     "output_type": "display_data"
    }
   ],
   "source": [
    "data = df['column_3']\n",
    "\n",
    "# Визуальный анализ: гистограмма и кривая плотности\n",
    "plt.figure(figsize=(10, 6))\n",
    "plt.hist(data, bins=30, density=True, alpha=0.6, label='Гистограмма')\n",
    "# найти среднее значение (мат ожидание) для данных из третьей колонки\n",
    "# распределение пуассона\n",
    "mean_value = np.mean(data)\n",
    "# Округление до целого числа\n",
    "print(f\"среднее значение (математическое ожидание) данных в колонке 'column_3': {int(round(mean_value))}\")"
   ]
  },
  {
   "cell_type": "markdown",
   "id": "20d984ba-bcfb-4477-b9e0-05ea00888c94",
   "metadata": {},
   "source": [
    "в 3 колонке распределение Пуассона"
   ]
  },
  {
   "cell_type": "code",
   "execution_count": 11,
   "id": "78409744-457a-4a71-92cd-30b2b29be4dc",
   "metadata": {},
   "outputs": [
    {
     "data": {
      "text/plain": [
       "(array([1.53183024e-05, 1.53183024e-05, 1.53183024e-05, 3.06366049e-05,\n",
       "        1.53183024e-05, 9.19098146e-05, 1.83819629e-04, 3.82957561e-04,\n",
       "        8.27188331e-04, 1.31737401e-03, 2.80324934e-03, 5.51458887e-03,\n",
       "        9.81903186e-03, 2.04039788e-02, 3.69324272e-02, 3.51708224e-02,\n",
       "        1.95614722e-02, 9.78839525e-03, 5.00908489e-03, 2.51220160e-03,\n",
       "        1.31737401e-03, 6.74005307e-04, 3.67639258e-04, 1.68501327e-04,\n",
       "        1.53183024e-04, 3.06366049e-05, 3.06366049e-05, 1.53183024e-05,\n",
       "        0.00000000e+00, 1.53183024e-05]),\n",
       " array([-87.85191335, -81.32377484, -74.79563633, -68.26749782,\n",
       "        -61.73935931, -55.2112208 , -48.68308229, -42.15494377,\n",
       "        -35.62680526, -29.09866675, -22.57052824, -16.04238973,\n",
       "         -9.51425122,  -2.98611271,   3.5420258 ,  10.07016431,\n",
       "         16.59830282,  23.12644134,  29.65457985,  36.18271836,\n",
       "         42.71085687,  49.23899538,  55.76713389,  62.2952724 ,\n",
       "         68.82341091,  75.35154942,  81.87968794,  88.40782645,\n",
       "         94.93596496, 101.46410347, 107.99224198]),\n",
       " <BarContainer object of 30 artists>)"
      ]
     },
     "execution_count": 11,
     "metadata": {},
     "output_type": "execute_result"
    },
    {
     "data": {
      "image/png": "[encoded data removed]",
      "text/plain": [
       "<Figure size 1000x600 with 1 Axes>"
      ]
     },
     "metadata": {},
     "output_type": "display_data"
    }
   ],
   "source": [
    "data = df['column_4']\n",
    "\n",
    "# Визуальный анализ: гистограмма и кривая плотности\n",
    "plt.figure(figsize=(10, 6))\n",
    "plt.hist(data, bins=30, density=True, alpha=0.6, label='Гистограмма')"
   ]
  },
  {
   "cell_type": "markdown",
   "id": "ef9064d8-1ef2-4c46-b14c-f3208db3656c",
   "metadata": {},
   "source": [
    "в 4 колонке распределение Лапласа"
   ]
  },
  {
   "cell_type": "code",
   "execution_count": 12,
   "id": "59c45424-d1a7-4526-9227-a5ae699e6d96",
   "metadata": {},
   "outputs": [
    {
     "data": {
      "text/plain": [
       "(array([0.10290687, 0.09390627, 0.09390627, 0.10140677, 0.10290687,\n",
       "        0.09090607, 0.09180613, 0.10890727, 0.09630643, 0.09840657,\n",
       "        0.09930663, 0.10500701, 0.09810655, 0.10530703, 0.10140677,\n",
       "        0.09930663, 0.10290687, 0.10830723, 0.10170679, 0.09420629,\n",
       "        0.09210615, 0.09630643, 0.09900661, 0.10260685, 0.09840657,\n",
       "        0.10530703, 0.10200681, 0.09240617, 0.10110675, 0.11400761]),\n",
       " array([15.00009204, 15.33340313, 15.66671422, 16.00002532, 16.33333641,\n",
       "        16.6666475 , 16.99995859, 17.33326969, 17.66658078, 17.99989187,\n",
       "        18.33320297, 18.66651406, 18.99982515, 19.33313624, 19.66644734,\n",
       "        19.99975843, 20.33306952, 20.66638061, 20.99969171, 21.3330028 ,\n",
       "        21.66631389, 21.99962499, 22.33293608, 22.66624717, 22.99955826,\n",
       "        23.33286936, 23.66618045, 23.99949154, 24.33280264, 24.66611373,\n",
       "        24.99942482]),\n",
       " <BarContainer object of 30 artists>)"
      ]
     },
     "execution_count": 12,
     "metadata": {},
     "output_type": "execute_result"
    },
    {
     "data": {
      "image/png": "[encoded data removed]",
      "text/plain": [
       "<Figure size 1000x600 with 1 Axes>"
      ]
     },
     "metadata": {},
     "output_type": "display_data"
    }
   ],
   "source": [
    "data = df['column_5']\n",
    "\n",
    "# Визуальный анализ: гистограмма и кривая плотности\n",
    "plt.figure(figsize=(10, 6))\n",
    "plt.hist(data, bins=30, density=True, alpha=0.6, label='Гистограмма')"
   ]
  },
  {
   "cell_type": "markdown",
   "id": "72ddcc92-9a98-4013-9cea-5bb03160f483",
   "metadata": {},
   "source": [
    "в 5 колонке распределение равномерное"
   ]
  },
  {
   "cell_type": "code",
   "execution_count": 18,
   "id": "841365fc-1d98-492a-905b-681f5537b915",
   "metadata": {},
   "outputs": [
    {
     "name": "stdout",
     "output_type": "stream",
     "text": [
      "медиана для данных в колонке 'column_6': 43\n"
     ]
    },
    {
     "data": {
      "image/png": "[encoded data removed]",
      "text/plain": [
       "<Figure size 1000x600 with 1 Axes>"
      ]
     },
     "metadata": {},
     "output_type": "display_data"
    }
   ],
   "source": [
    "data = df['column_6']\n",
    "\n",
    "# Визуальный анализ: гистограмма и кривая плотности\n",
    "plt.figure(figsize=(10, 6))\n",
    "plt.hist(data, bins=30, density=True, alpha=0.6, label='Гистограмма')\n",
    "\n",
    "# медиану для данных 6 колонки\n",
    "med = np.median(data)\n",
    "# Округление до целого числа\n",
    "print(f\"медиана для данных в колонке 'column_6': {int(round(med))}\")"
   ]
  },
  {
   "cell_type": "markdown",
   "id": "17acbb7a-43b3-4b59-bc8d-27fa2992c4f7",
   "metadata": {},
   "source": [
    "в 6 колонке распределение геометрическое"
   ]
  },
  {
   "cell_type": "code",
   "execution_count": null,
   "id": "a3489714-fdee-439a-9d25-623d0fe47f2d",
   "metadata": {},
   "outputs": [],
   "source": []
  }
 ],
 "metadata": {
  "kernelspec": {
   "display_name": "Python 3 (ipykernel)",
   "language": "python",
   "name": "python3"
  },
  "language_info": {
   "codemirror_mode": {
    "name": "ipython",
    "version": 3
   },
   "file_extension": ".py",
   "mimetype": "text/x-python",
   "name": "python",
   "nbconvert_exporter": "python",
   "pygments_lexer": "ipython3",
   "version": "3.11.5"
  }
 },
 "nbformat": 4,
 "nbformat_minor": 5
}

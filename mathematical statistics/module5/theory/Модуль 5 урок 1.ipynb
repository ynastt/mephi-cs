{
 "cells": [
  {
   "cell_type": "markdown",
   "id": "f9935919-f842-47f6-8c90-affb4cd75127",
   "metadata": {},
   "source": [
    "Имеются данные средней выработки на одного рабочего y (тыс. руб.) и товарооборота x (тыс. руб.) в 20 магазинах за квартал. На основе указанных данных требуется определить зависимость (коэффициент корреляции) средней выработки на одного рабочего от товарооборота.\n",
    "\tМагазины\n",
    "\t1\t   2\t3\t   4\t5\t   6\t7\t   8\t9\t  10\t11\t    12\n",
    "х\t10\t   14\t21\t   23\t27\t   32\t39\t   45\t55\t  61\t62\t    68\n",
    "y\t3.8\t   4.8\t5.9\t   6.1\t6.2\t   6.3\t6.6\t   7.4\t8.5\t  9.7\t10.5\t12.4\n"
   ]
  },
  {
   "cell_type": "code",
   "execution_count": 5,
   "id": "3551596c-d85d-4687-b9d5-050cdf6ec5a7",
   "metadata": {},
   "outputs": [
    {
     "data": {
      "image/png": "[encoded data removed]",
      "text/plain": [
       "<Figure size 600x400 with 1 Axes>"
      ]
     },
     "metadata": {},
     "output_type": "display_data"
    }
   ],
   "source": [
    "import numpy as np\n",
    "import scipy.stats as stats\n",
    "import matplotlib.pyplot as plt\n",
    "\n",
    "x = np.array([10, 14, 21, 23, 27, 32, 39, 45, 55, 61, 62, 68])\n",
    "y = np.array([3.8, 4.8, 5.9, 6.1, 6.2, 6.3, 6.6, 7.4, 8.5, 9.7, 10.5, 12.4])\n",
    "fig, ax = plt.subplots(figsize=(6, 4))\n",
    "ax.scatter(x, y)\n",
    "plt.show()"
   ]
  },
  {
   "cell_type": "code",
   "execution_count": 9,
   "id": "ea6aaaf3-e71e-4143-9066-27c29aa91cce",
   "metadata": {},
   "outputs": [
    {
     "name": "stdout",
     "output_type": "stream",
     "text": [
      "0.9591225658745699 8.391665336095697e-07\n",
      "t-score: 10.71769741736792\n",
      "Critical t-Score: 2.2281388519649385\n",
      "Связь статистически значима\n",
      "P-Value : 8.391665335949483e-07\n",
      "Связь статистически значима\n"
     ]
    }
   ],
   "source": [
    "import numpy as np\n",
    "import scipy.stats as stats\n",
    "\n",
    "x = np.array([10, 14, 21, 23, 27, 32, 39, 45, 55, 61, 68, 62])\n",
    "y = np.array([3.8, 4.8, 5.9, 6.1, 6.2, 6.3, 6.6, 7.4, 8.5, 9.7, 12.4, 10.5])\n",
    "n = len(x)\n",
    "alpha = 0.05\n",
    "r, p_value = stats.pearsonr(x, y)\n",
    "print(r, p_value)\n",
    "\n",
    "# Принятие решения на основе критического значения t\n",
    "t_score = r*(n-2)**0.5 / (1-r**2)**0.5\n",
    "print('t-score:', t_score)\n",
    "t_critical = stats.t.ppf(1 - alpha/2, df = n-2)\n",
    "print('Critical t-Score:',t_critical)\n",
    "if np.abs(t_score) > t_critical:\n",
    "    print(\"Связь статистически значима\")\n",
    "else:\n",
    "    print(\"Нельзя отклонить нулевую гипотезу\")\n",
    "\n",
    "# Принятие решения на основе p-значения\n",
    "p_value = (1 - stats.t.cdf(np.abs(t_score), df = n-2)) * 2\n",
    "print('P-Value :',p_value)\n",
    "if p_value < alpha:\n",
    "    print(\"Связь статистически значима\")\n",
    "else:\n",
    "    print(\"Нельзя отклонить нулевую гипотезу\")"
   ]
  },
  {
   "cell_type": "markdown",
   "id": "ddeb9428-d2cd-4e82-a9b7-6c8fbe931e5b",
   "metadata": {},
   "source": [
    "Тринадцать цветных полос расположены в порядке убывания окраски от темной к светлой и каждой полосе присвоен ранг – порядковый номер A. При проверке способности различать оттенки цветов испытуемый расположил полосы в порядке B. Оцените качество цветного зрения испытуемого.\r\n",
    "А\t1\t2\t3\t4\t5\t6\t7\t8\t9\t10\t11\t12\t13\r\n",
    "В\t6\t3\t4\t2\t1\t10\t7\t8\t9\t5\t11\t13\t2\r\n"
   ]
  },
  {
   "cell_type": "code",
   "execution_count": 11,
   "id": "6a4ec74c-c462-4297-b060-e2f3e8b8b279",
   "metadata": {},
   "outputs": [
    {
     "name": "stdout",
     "output_type": "stream",
     "text": [
      "0.7527472527472527 0.0029822333891698486\n",
      "t-score: 3.7924102466541254\n",
      "Critical t-Score: 2.200985160082949\n",
      "Связь статистически значима\n",
      "P-Value : 0.0029822333891698083\n",
      "Связь статистически значима\n"
     ]
    }
   ],
   "source": [
    "import numpy as np\n",
    "import scipy.stats as stats\n",
    "\n",
    "x = np.array([1, 2, 3, 4, 5, 6, 7, 8, 9, 10, 11, 12, 13])\n",
    "y = np.array([6, 3, 4, 2, 1, 10, 7, 8, 9, 5, 11, 13, 12])\n",
    "n = len(x)\n",
    "alpha = 0.05\n",
    "r, p_value = stats.spearmanr(x, y)\n",
    "print(r, p_value)\n",
    "\n",
    "# Принятие решения на основе критического значения t\n",
    "t_score = r*(n-2)**0.5 / (1-r**2)**0.5\n",
    "print('t-score:',t_score)\n",
    "t_critical = stats.t.ppf(1 - alpha/2, df = n-2)\n",
    "print('Critical t-Score:',t_critical)\n",
    "if np.abs(t_score) > t_critical:\n",
    "    print(\"Связь статистически значима\")\n",
    "else:\n",
    "    print(\"Нельзя отклонить нулевую гипотезу\")\n",
    "\n",
    "# Принятие решения на основе p-значения\n",
    "p_value = (1 - stats.t.cdf(np.abs(t_score), df = n-2)) * 2\n",
    "print('P-Value :',p_value)\n",
    "if p_value < alpha:\n",
    "    print(\"Связь статистически значима\")\n",
    "else:\n",
    "    print(\"Нельзя отклонить нулевую гипотезу\")"
   ]
  },
  {
   "cell_type": "code",
   "execution_count": 15,
   "id": "6b5ee688-4da1-4817-b49b-ed1f1b8e2f8e",
   "metadata": {},
   "outputs": [
    {
     "name": "stdout",
     "output_type": "stream",
     "text": [
      "r_xy = -0.2121212121212121, r_yz = -0.29696969696969694, r_zx = 0.6363636363636362\n"
     ]
    }
   ],
   "source": [
    "import numpy as np\n",
    "import scipy.stats as stats\n",
    "\n",
    "x = np.array([1, 2, 3, 4, 5, 6, 7, 8, 9, 10])\n",
    "y = np.array([3, 10, 7, 2, 8, 5, 6, 9, 1, 4])\n",
    "z = np.array([6, 2, 1, 3, 9, 4, 5, 7, 10, 8])\n",
    "r_xy, p_value_xy = stats.spearmanr(x, y)\n",
    "r_yz, p_value_yz = stats.spearmanr(y, z)\n",
    "r_zx, p_value_zx = stats.spearmanr(z, x)\n",
    "print(f'r_xy = {r_xy}, r_yz = {r_yz}, r_zx = {r_zx}')"
   ]
  },
  {
   "cell_type": "code",
   "execution_count": 25,
   "id": "320b5f8c-190f-47ea-b04c-3dce4d0d93d5",
   "metadata": {},
   "outputs": [
    {
     "name": "stdout",
     "output_type": "stream",
     "text": [
      "    x    y\n",
      "0  12   42\n",
      "1   9  107\n",
      "2   8  100\n",
      "3  14   60\n",
      "4  15   78\n",
      "5  11   79\n",
      "6  10   90\n",
      "7  15   54\n",
      "Корреляция по Пирсону для значений: -0.7193069877978744, t_score = -2.5362811257949285\n",
      "Корреляция по Спирмену для значений: -0.790433332862751, t_score = -3.160826741229801\n",
      "     x    y\n",
      "0  5.0  1.0\n",
      "1  2.0  8.0\n",
      "2  1.0  7.0\n",
      "3  6.0  3.0\n",
      "4  7.5  4.0\n",
      "5  4.0  5.0\n",
      "6  3.0  6.0\n",
      "7  7.5  2.0\n",
      "Корреляция по Пирсону для рангов: -0.790433332862751, t_score = -3.160826741229801\n",
      "Корреляция по Спирмену для рангов: -0.790433332862751, t_score = -3.160826741229801\n",
      "Critical t-Score: 3.142668403290985\n",
      "-0.790433332862751 0.019544537274857787\n"
     ]
    }
   ],
   "source": [
    "import numpy as np\n",
    "import scipy.stats as stats\n",
    "import pandas as pd\n",
    "\n",
    "x = np.array([12, 9, 8, 14, 15, 11, 10, 15])\n",
    "y = np.array([42, 107, 100, 60, 78, 79, 90, 54])\n",
    "n = len(x)\n",
    "df = pd.DataFrame()\n",
    "df['x'] = x\n",
    "df['y'] = y\n",
    "print(df)\n",
    "r = df.corr()['x']['y']\n",
    "print(f'Корреляция по Пирсону для значений: {r}, t_score = {r*(n-2)**0.5 / (1-r**2)**0.5}')\n",
    "r = df.corr(method = 'spearman')['x']['y']\n",
    "print(f'Корреляция по Спирмену для значений: {r}, t_score = {r*(n-2)**0.5 / (1-r**2)**0.5}')\n",
    "df_ranked = df.rank(ascending=True)\n",
    "print(df_ranked)\n",
    "r = df_ranked.corr()['x']['y']\n",
    "print(f'Корреляция по Пирсону для рангов: {r}, t_score = {r*(n-2)**0.5 / (1-r**2)**0.5}')\n",
    "r = df_ranked.corr(method = 'spearman')['x']['y']\n",
    "print(f'Корреляция по Спирмену для рангов: {r}, t_score = {r*(n-2)**0.5 / (1-r**2)**0.5}')\n",
    "\n",
    "alpha = 0.02\n",
    "t_critical = stats.t.ppf(1 - alpha/2, df = n-2)\n",
    "print('Critical t-Score:',t_critical)\n",
    "\n",
    "r, p_value = stats.spearmanr(x, y)\n",
    "print(r, p_value)"
   ]
  },
  {
   "cell_type": "code",
   "execution_count": null,
   "id": "e501a67d-b456-4be4-a06f-111fa4e3db40",
   "metadata": {},
   "outputs": [],
   "source": []
  },
  {
   "cell_type": "code",
   "execution_count": 27,
   "id": "17f3c016-3b8c-47ac-b602-068f32c2cd2e",
   "metadata": {},
   "outputs": [
    {
     "data": {
      "text/html": [
       "<div>\n",
       "<style scoped>\n",
       "    .dataframe tbody tr th:only-of-type {\n",
       "        vertical-align: middle;\n",
       "    }\n",
       "\n",
       "    .dataframe tbody tr th {\n",
       "        vertical-align: top;\n",
       "    }\n",
       "\n",
       "    .dataframe thead th {\n",
       "        text-align: right;\n",
       "    }\n",
       "</style>\n",
       "<table border=\"1\" class=\"dataframe\">\n",
       "  <thead>\n",
       "    <tr style=\"text-align: right;\">\n",
       "      <th></th>\n",
       "      <th>x</th>\n",
       "      <th>y</th>\n",
       "    </tr>\n",
       "  </thead>\n",
       "  <tbody>\n",
       "    <tr>\n",
       "      <th>0</th>\n",
       "      <td>4</td>\n",
       "      <td>27.0</td>\n",
       "    </tr>\n",
       "    <tr>\n",
       "      <th>1</th>\n",
       "      <td>3</td>\n",
       "      <td>25.7</td>\n",
       "    </tr>\n",
       "    <tr>\n",
       "      <th>2</th>\n",
       "      <td>0</td>\n",
       "      <td>24.3</td>\n",
       "    </tr>\n",
       "    <tr>\n",
       "      <th>3</th>\n",
       "      <td>5</td>\n",
       "      <td>23.2</td>\n",
       "    </tr>\n",
       "    <tr>\n",
       "      <th>4</th>\n",
       "      <td>3</td>\n",
       "      <td>27.6</td>\n",
       "    </tr>\n",
       "  </tbody>\n",
       "</table>\n",
       "</div>"
      ],
      "text/plain": [
       "   x     y\n",
       "0  4  27.0\n",
       "1  3  25.7\n",
       "2  0  24.3\n",
       "3  5  23.2\n",
       "4  3  27.6"
      ]
     },
     "execution_count": 27,
     "metadata": {},
     "output_type": "execute_result"
    }
   ],
   "source": [
    "import numpy as np\n",
    "import pandas as pd\n",
    "import statsmodels.api as sm\n",
    "from statsmodels.tsa.stattools import grangercausalitytests\n",
    "\n",
    "df_1 = pd.read_excel(\"advert.xlsx\") # x - расходы фирмы на рекламу, y — объем продаж фирмы\n",
    "df_1.head(5)"
   ]
  },
  {
   "cell_type": "code",
   "execution_count": 29,
   "id": "cafaedc7-d4c0-4ab9-a28a-dd8214b5e1ad",
   "metadata": {},
   "outputs": [
    {
     "name": "stdout",
     "output_type": "stream",
     "text": [
      "-0.04858101901437407\n"
     ]
    }
   ],
   "source": [
    "r = df_1.corr(method = 'spearman')['x']['y']\n",
    "print(r)"
   ]
  },
  {
   "cell_type": "code",
   "execution_count": 37,
   "id": "c1bd4667-3028-4db0-88e7-ac5ade8d2c56",
   "metadata": {},
   "outputs": [
    {
     "name": "stdout",
     "output_type": "stream",
     "text": [
      "\n",
      "Granger Causality\n",
      "number of lags (no zero) 1\n",
      "ssr based F test:         F=0.6359  , p=0.4268  , df_denom=116, df_num=1\n",
      "ssr based chi2 test:   chi2=0.6524  , p=0.4193  , df=1\n",
      "likelihood ratio test: chi2=0.6506  , p=0.4199  , df=1\n",
      "parameter F test:         F=0.6359  , p=0.4268  , df_denom=116, df_num=1\n",
      "\n",
      "Granger Causality\n",
      "number of lags (no zero) 2\n",
      "ssr based F test:         F=0.0040  , p=0.9960  , df_denom=113, df_num=2\n",
      "ssr based chi2 test:   chi2=0.0083  , p=0.9958  , df=2\n",
      "likelihood ratio test: chi2=0.0083  , p=0.9958  , df=2\n",
      "parameter F test:         F=0.0040  , p=0.9960  , df_denom=113, df_num=2\n",
      "\n",
      "Granger Causality\n",
      "number of lags (no zero) 3\n",
      "ssr based F test:         F=0.3531  , p=0.7870  , df_denom=110, df_num=3\n",
      "ssr based chi2 test:   chi2=1.1266  , p=0.7707  , df=3\n",
      "likelihood ratio test: chi2=1.1212  , p=0.7720  , df=3\n",
      "parameter F test:         F=0.3531  , p=0.7870  , df_denom=110, df_num=3\n",
      "Lag: 1 \n",
      "F-Statistic: 0.6359438629631922 \n",
      "P-Value: 0.4268\n",
      "\n",
      "Lag: 2 \n",
      "F-Statistic: 0.003989891079060425 \n",
      "P-Value: 0.996\n",
      "\n",
      "Lag: 3 \n",
      "F-Statistic: 0.35306671431558007 \n",
      "P-Value: 0.787\n",
      "\n"
     ]
    }
   ],
   "source": [
    "df_2 = df_1.copy()\n",
    "df_2['x']=df_1['y']\n",
    "df_2['y']=df_1['x']\n",
    "# grangercausalitytests проверяет, влияет ли временной ряд во втором столбце на временной ряд в первом столбце \n",
    "gc_res_1 = grangercausalitytests(df_1, 3) # влияет ли объем продаж фирмы на расходы фирмы на рекламу\n",
    "for lag, result in gc_res_1.items():\n",
    "    p_values = [round(value[1],4) for key, value in result[0].items()]\n",
    "    print(f\"Lag: {lag} \\nF-Statistic: {result[0]['ssr_ftest'][0]} \\nP-Value: {p_values[0]}\\n\")"
   ]
  },
  {
   "cell_type": "code",
   "execution_count": 41,
   "id": "f696d6b3-51ee-4532-bb3e-2d29f238091b",
   "metadata": {},
   "outputs": [
    {
     "name": "stdout",
     "output_type": "stream",
     "text": [
      "\n",
      "Granger Causality\n",
      "number of lags (no zero) 1\n",
      "ssr based F test:         F=518.5301, p=0.0000  , df_denom=116, df_num=1\n",
      "ssr based chi2 test:   chi2=531.9403, p=0.0000  , df=1\n",
      "likelihood ratio test: chi2=202.2160, p=0.0000  , df=1\n",
      "parameter F test:         F=518.5301, p=0.0000  , df_denom=116, df_num=1\n",
      "\n",
      "Granger Causality\n",
      "number of lags (no zero) 2\n",
      "ssr based F test:         F=253.2506, p=0.0000  , df_denom=113, df_num=2\n",
      "ssr based chi2 test:   chi2=528.9127, p=0.0000  , df=2\n",
      "likelihood ratio test: chi2=200.7801, p=0.0000  , df=2\n",
      "parameter F test:         F=253.2506, p=0.0000  , df_denom=113, df_num=2\n",
      "\n",
      "Granger Causality\n",
      "number of lags (no zero) 3\n",
      "ssr based F test:         F=166.9698, p=0.0000  , df_denom=110, df_num=3\n",
      "ssr based chi2 test:   chi2=532.7856, p=0.0000  , df=3\n",
      "likelihood ratio test: chi2=200.5928, p=0.0000  , df=3\n",
      "parameter F test:         F=166.9698, p=0.0000  , df_denom=110, df_num=3\n",
      "Lag: 1 \n",
      "F-Statistic: 518.5300881602286 \n",
      "P-Value: 0.0\n",
      "\n",
      "Lag: 2 \n",
      "F-Statistic: 253.25055536266007 \n",
      "P-Value: 0.0\n",
      "\n",
      "Lag: 3 \n",
      "F-Statistic: 166.96983279983235 \n",
      "P-Value: 0.0\n",
      "\n"
     ]
    }
   ],
   "source": [
    "gc_res_2 = grangercausalitytests(df_2, 3) # влияют ли расходы фирмы на рекламу на объем продаж фирмы\n",
    "for lag, result in gc_res_2.items():\n",
    "    p_values = [round(value[1],4) for key, value in result[0].items()]\n",
    "    print(f\"Lag: {lag} \\nF-Statistic: {result[0]['ssr_ftest'][0]} \\nP-Value: {p_values[0]}\\n\")"
   ]
  },
  {
   "cell_type": "code",
   "execution_count": 121,
   "id": "4634b87a-6306-4cd3-a5b4-1cdcac4e5c5e",
   "metadata": {},
   "outputs": [],
   "source": [
    "# Если значение p меньше вашего уровня значимости (обычно 0,05), вам следует отклонить нулевую гипотезу и сделать вывод, \n",
    "# что временной ряд во втором столбце по Грейнджеру влияет на временной ряд в первом столбце."
   ]
  },
  {
   "cell_type": "code",
   "execution_count": null,
   "id": "9ad1319a-59f9-4594-b586-0813f0180715",
   "metadata": {},
   "outputs": [],
   "source": []
  }
 ],
 "metadata": {
  "kernelspec": {
   "display_name": "Python 3 (ipykernel)",
   "language": "python",
   "name": "python3"
  },
  "language_info": {
   "codemirror_mode": {
    "name": "ipython",
    "version": 3
   },
   "file_extension": ".py",
   "mimetype": "text/x-python",
   "name": "python",
   "nbconvert_exporter": "python",
   "pygments_lexer": "ipython3",
   "version": "3.12.4"
  }
 },
 "nbformat": 4,
 "nbformat_minor": 5
}

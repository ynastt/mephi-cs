{
 "cells": [
  {
   "cell_type": "code",
   "execution_count": null,
   "metadata": {},
   "outputs": [],
   "source": [
    "import numpy as np\n",
    "import pandas as pd\n",
    "from scipy.stats import norm\n",
    "import matplotlib.pyplot as plt\n",
    "import seaborn as sns\n",
    "from operator import attrgetter\n",
    "from scipy.stats import ttest_ind, pearsonr, gamma, normaltest\n",
    "\n",
    "sns.set_context(\"paper\", font_scale=2)"
   ]
  },
  {
   "cell_type": "markdown",
   "metadata": {},
   "source": [
    "# Содержание\n",
    "\n",
    "Данный ноутбук содержит домашние задания на первые четыре дня интенсива \"Погружение в A/B-тестирование\".\n",
    "\n",
    "Для каждого дня и темы вам предоставлен код из соответствующей демонстрации. Для выполнения задания вам нужно произвести соответствующие изменения в существующем коде, чтобы он подходил под условия задания. Некоторые из мест, которые нужно изменить, вы можете найти по комментарию **#TODO**. Остальные места для изменения кода вам нужно найти самостоятельно.\n",
    "\n",
    "Вопросы в рамках одной темы нужно выполнять последовательно, т.к. результаты последующих заданий зависят от расчетов предыдущих заданий."
   ]
  },
  {
   "cell_type": "markdown",
   "metadata": {},
   "source": [
    "## Практическое задание 1 \"Бакетирование\"\n",
    "\n",
    "1. Возьмите гамма распределение со следующими параметрами:\n",
    "- гамма распределение (параметры: k=2, theta = 2);\n",
    "- размер сэмпла равен 1 000 000;\n",
    "- метрика: медиана;\n",
    "- количество бакетов: вариант разбиения - 100.\n",
    "2. Проведите проверку полученных распределений на нормальность методом, основанным на D’Agostino and Pearson’s тестах (метод normaltest из библиотеки scipy.stats).\n",
    "3. Выпишите полученные скоры проверок (округлите до десятых) и, основываясь на скоре, укажите можно ли при таком количестве бакетов распределение считать нормальным (при alpha = 0.05)."
   ]
  },
  {
   "cell_type": "code",
   "execution_count": null,
   "metadata": {},
   "outputs": [],
   "source": [
    "np.random.seed(42)\n",
    "plt.rcParams.update({'font.size': 14})\n",
    "\n",
    "\n",
    "size = 1_000                                # TODO: поменяйте количество на нужное \n",
    "n_buckets = 10                                 # TODO: поменяйте количество бакетов на нужное\n",
    "metric =  np.mean                               # TODO: поменяйте метрику на нужную\n",
    "a = np.random.lognormal(0, 1, size)             # TODO: поменяйте распределение на нужное\n",
    "\n",
    "\n",
    "fig, (ax1, ax2) = plt.subplots(1, 2, figsize=(20, 8))\n",
    "ax1.hist(a, alpha=0.4, bins=100, label='Log-normal', color='Red')\n",
    "ax1.set_title(f'PDF, {size} точек')\n",
    "\n",
    "np.random.shuffle(a)\n",
    "\n",
    "\n",
    "a_buckets = np.array([ metric(x)\n",
    "                      for x in np.array_split(a, n_buckets) ])\n",
    "print(f'Initial metric: {metric(a)}')\n",
    "print(f'Bucketize metric mean: {np.mean(a_buckets)}')\n",
    "print(f'Abs diff: {round(abs(metric(a) - np.mean(a_buckets)), 5)}\\n')\n",
    "\n",
    "\n",
    "ax2.hist(a_buckets, alpha=0.4, bins=50, label='Bucketized log-normal', color='Green')\n",
    "ax2.set_title(f'Бакетированное распределение, {n_buckets} бакетов')\n",
    "\n",
    "ax1.legend()\n",
    "ax2.legend()\n",
    "plt.show()"
   ]
  },
  {
   "cell_type": "code",
   "execution_count": null,
   "metadata": {},
   "outputs": [],
   "source": [
    "# ваш код с расчетом нормальности полученных распределений"
   ]
  }
 ],
 "metadata": {
  "kernelspec": {
   "display_name": "Python 3 (ipykernel)",
   "language": "python",
   "name": "python3"
  },
  "language_info": {
   "codemirror_mode": {
    "name": "ipython",
    "version": 3
   },
   "file_extension": ".py",
   "mimetype": "text/x-python",
   "name": "python",
   "nbconvert_exporter": "python",
   "pygments_lexer": "ipython3",
   "version": "3.9.7"
  }
 },
 "nbformat": 4,
 "nbformat_minor": 4
}

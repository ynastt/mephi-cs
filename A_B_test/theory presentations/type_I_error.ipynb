{
 "cells": [
  {
   "cell_type": "markdown",
   "metadata": {},
   "source": [
    "# Демонстрация. Ошибка I рода\n",
    "\n",
    "Демонстрация ошибки I рода, как количества неверно отвергнутых нулевых гипотез. Показано, что количество неверно отвергнутых нулевых гипотез = $\\alpha$ * количество проверенных гипотез."
   ]
  },
  {
   "cell_type": "code",
   "execution_count": 3,
   "metadata": {},
   "outputs": [],
   "source": [
    "import numpy as np\n",
    "import pandas as pd\n",
    "from scipy.stats import ttest_ind, norm\n",
    "import seaborn as sns\n",
    "import matplotlib.pyplot as plt\n",
    "import time"
   ]
  },
  {
   "cell_type": "code",
   "execution_count": 4,
   "metadata": {},
   "outputs": [
    {
     "name": "stdout",
     "output_type": "stream",
     "text": [
      "Theoretical alpha: 0.05\n",
      "Real alpha: 0.051\n",
      "CPU times: total: 7.28 s\n",
      "Wall time: 7.28 s\n"
     ]
    }
   ],
   "source": [
    "%%time\n",
    "\n",
    "n_iter = 5000           # <----- количество итераций\n",
    "sample_size = 10_000    # <----- размер выборки\n",
    "\n",
    "# управляем параметром alpha\n",
    "# теоретическое и экспериментальные alpha должны оказаться очень близкими\n",
    "alpha = 0.05\n",
    "real_alpha = 0\n",
    "\n",
    "for _ in range(n_iter):\n",
    "    a = np.random.normal(0, 3, sample_size)\n",
    "    b = np.random.normal(0, 3, sample_size)\n",
    "    \n",
    "    test_res = ttest_ind(a, b, alternative='two-sided', equal_var=False)\n",
    "    if test_res[1] < alpha:\n",
    "        real_alpha += 1\n",
    "        \n",
    "real_alpha /= n_iter\n",
    "\n",
    "print(f'Theoretical alpha: {alpha}')\n",
    "print(f'Real alpha: {real_alpha:.3f}')"
   ]
  },
  {
   "cell_type": "code",
   "execution_count": null,
   "metadata": {},
   "outputs": [],
   "source": []
  },
  {
   "cell_type": "code",
   "execution_count": null,
   "metadata": {},
   "outputs": [],
   "source": []
  }
 ],
 "metadata": {
  "kernelspec": {
   "display_name": "ab_venv",
   "language": "python",
   "name": "ab_venv"
  },
  "language_info": {
   "codemirror_mode": {
    "name": "ipython",
    "version": 3
   },
   "file_extension": ".py",
   "mimetype": "text/x-python",
   "name": "python",
   "nbconvert_exporter": "python",
   "pygments_lexer": "ipython3",
   "version": "3.12.7"
  }
 },
 "nbformat": 4,
 "nbformat_minor": 4
}

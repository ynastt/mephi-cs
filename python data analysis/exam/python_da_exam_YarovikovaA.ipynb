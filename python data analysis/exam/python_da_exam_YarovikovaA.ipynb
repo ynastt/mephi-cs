{
 "cells": [
  {
   "cell_type": "code",
   "execution_count": 20,
   "id": "bd4588bc-3e5c-4a0a-9a20-1425ab08c1dc",
   "metadata": {},
   "outputs": [],
   "source": [
    "import numpy as np\n",
    "import pandas as pd\n",
    "import matplotlib.pyplot as plt\n",
    "import requests"
   ]
  },
  {
   "cell_type": "markdown",
   "id": "fe9d1933-711c-441a-92c6-3343f9afa6a0",
   "metadata": {},
   "source": [
    "## Задание 1: Работа с массивами NumPy  \n",
    "\n",
    "Цель: Проверить знание методов NumPy для анализа данных.  \n",
    "\n",
    "Задание:  \n",
    "1. Создайте массив случайных чисел (50 элементов) из диапазона [10, 100].  \n",
    "2. Найдите:  \n",
    "3. Среднее арифметическое массива.  \n",
    "4. Медиану.  \n",
    "5. Стандартное отклонение.  \n",
    "6. Создайте новый массив, где каждое число изначального массива делится на 3. Отфильтруйте числа, которые делятся без остатка.\n",
    "\n",
    "Ожидаемый ответ:  \n",
    "- Вывод среднего, медианы, стандартного отклонения.  \n",
    "- Новый массив и его фильтр.  "
   ]
  },
  {
   "cell_type": "code",
   "execution_count": 6,
   "id": "a054d5f5-366b-4a67-a55a-0be5ade85075",
   "metadata": {},
   "outputs": [
    {
     "name": "stdout",
     "output_type": "stream",
     "text": [
      "Созданный массив случайных чисел:\n",
      "[ 83  46  48  30  24 100  85  84  31  53 100  18  43  33  85  60  94  11\n",
      "  86  40  49  12  20  76  70  45  90  13  79  98  99  49  97  75  63  46\n",
      "  52  25  89  32  15  57  12  62  17  82  96  57  45  90]\n",
      "\n",
      "Среднее арифметическое массива:\n",
      "57.32\n",
      "\n",
      "Медиана массива:\n",
      "55.0\n",
      "\n",
      "Стандартное отклонение массива:\n",
      "28.641536271645766\n",
      "\n",
      "Новый массив:\n",
      "[27.66666667 15.33333333 16.         10.          8.         33.33333333\n",
      " 28.33333333 28.         10.33333333 17.66666667 33.33333333  6.\n",
      " 14.33333333 11.         28.33333333 20.         31.33333333  3.66666667\n",
      " 28.66666667 13.33333333 16.33333333  4.          6.66666667 25.33333333\n",
      " 23.33333333 15.         30.          4.33333333 26.33333333 32.66666667\n",
      " 33.         16.33333333 32.33333333 25.         21.         15.33333333\n",
      " 17.33333333  8.33333333 29.66666667 10.66666667  5.         19.\n",
      "  4.         20.66666667  5.66666667 27.33333333 32.         19.\n",
      " 15.         30.        ]\n",
      "\n",
      "Числа нового массива, которые делятся без остатка на 3:\n",
      "[ 6. 15. 30. 33. 21. 15. 30.]\n",
      "\n",
      "Числа исходного массива, которые делятся без остатка на 3:\n",
      "[48 30 24 84 18 33 60 12 45 90 99 75 63 15 57 12 96 57 45 90]\n"
     ]
    }
   ],
   "source": [
    "# Создаем массив из 50 чисел в диапозоне от 10 до 100\n",
    "array = np.random.randint(10, 101, size=50) \n",
    "print(\"Созданный массив случайных чисел:\")\n",
    "print(array)\n",
    "\n",
    "# Находим среднее арифмитическое\n",
    "print(\"\\nСреднее арифметическое массива:\")\n",
    "print(np.mean(array))\n",
    "\n",
    "# Находим медиану\n",
    "print(\"\\nМедиана массива:\")\n",
    "print(np.median(array))\n",
    "\n",
    "# Находим стандартное отклонение\n",
    "print(\"\\nСтандартное отклонение массива:\")\n",
    "print(np.std(array))\n",
    "\n",
    "# Создаем новый массив, где каждое число изначального массива делится на 3\n",
    "divided_by3_array = array / 3 \n",
    "print(\"\\nНовый массив:\")\n",
    "print(divided_by3_array)\n",
    "\n",
    "# Фильтруем числа, которые делятся без остатка на 3\n",
    "print(\"\\nЧисла нового массива, которые делятся без остатка на 3:\")\n",
    "print(divided_by3_array[divided_by3_array % 3 == 0])\n",
    "\n",
    "print(\"\\nЧисла исходного массива, которые делятся без остатка на 3:\")\n",
    "print(array[array % 3 == 0])"
   ]
  },
  {
   "cell_type": "markdown",
   "id": "deff8c91-1191-417b-a910-57fa246b81a0",
   "metadata": {},
   "source": [
    "## Задание 2: Анализ данных с помощью Pandas  \n",
    "\n",
    "Цель: Проверить навыки анализа и обработки данных.  \n",
    "\n",
    "Данные: Используйте предоставленный CSV-файл (\"sales_data_large.csv\"), содержащий данные о продажах с полями:  \n",
    "\n",
    "- date (дата продаж),  \n",
    "- region (регион),  \n",
    "- product (продукт),  \n",
    "- sales (объем продаж).\n",
    "\n",
    "Задание:  \n",
    "1. Загрузите данные из файла.  \n",
    "2. Определите:  \n",
    "3. Общее количество записей.  \n",
    "4. Какие регионы и продукты присутствуют в данных.  \n",
    "5. Подсчитайте:  \n",
    "6. Общие продажи по регионам.  \n",
    "7. Средний объем продаж для каждого продукта.  \n",
    "8. Постройте сводную таблицу, показывающую средние продажи по регионам и продуктам.  \n",
    "\n",
    "Ожидаемый ответ:  \n",
    "- Итоги анализа данных.  \n",
    "- Построенная сводная таблица.  "
   ]
  },
  {
   "cell_type": "code",
   "execution_count": 7,
   "id": "326f16d5-c264-4a78-b0b7-693ada78d0c6",
   "metadata": {},
   "outputs": [
    {
     "data": {
      "text/html": [
       "<div>\n",
       "<style scoped>\n",
       "    .dataframe tbody tr th:only-of-type {\n",
       "        vertical-align: middle;\n",
       "    }\n",
       "\n",
       "    .dataframe tbody tr th {\n",
       "        vertical-align: top;\n",
       "    }\n",
       "\n",
       "    .dataframe thead th {\n",
       "        text-align: right;\n",
       "    }\n",
       "</style>\n",
       "<table border=\"1\" class=\"dataframe\">\n",
       "  <thead>\n",
       "    <tr style=\"text-align: right;\">\n",
       "      <th></th>\n",
       "      <th>date</th>\n",
       "      <th>region</th>\n",
       "      <th>product</th>\n",
       "      <th>sales</th>\n",
       "    </tr>\n",
       "  </thead>\n",
       "  <tbody>\n",
       "    <tr>\n",
       "      <th>0</th>\n",
       "      <td>2024-12-01</td>\n",
       "      <td>West</td>\n",
       "      <td>Widget C</td>\n",
       "      <td>246</td>\n",
       "    </tr>\n",
       "    <tr>\n",
       "      <th>1</th>\n",
       "      <td>2024-12-01</td>\n",
       "      <td>South</td>\n",
       "      <td>Widget B</td>\n",
       "      <td>152</td>\n",
       "    </tr>\n",
       "    <tr>\n",
       "      <th>2</th>\n",
       "      <td>2024-12-01</td>\n",
       "      <td>West</td>\n",
       "      <td>Widget B</td>\n",
       "      <td>391</td>\n",
       "    </tr>\n",
       "    <tr>\n",
       "      <th>3</th>\n",
       "      <td>2024-12-01</td>\n",
       "      <td>West</td>\n",
       "      <td>Widget A</td>\n",
       "      <td>272</td>\n",
       "    </tr>\n",
       "    <tr>\n",
       "      <th>4</th>\n",
       "      <td>2024-12-01</td>\n",
       "      <td>East</td>\n",
       "      <td>Widget A</td>\n",
       "      <td>337</td>\n",
       "    </tr>\n",
       "  </tbody>\n",
       "</table>\n",
       "</div>"
      ],
      "text/plain": [
       "         date region   product  sales\n",
       "0  2024-12-01   West  Widget C    246\n",
       "1  2024-12-01  South  Widget B    152\n",
       "2  2024-12-01   West  Widget B    391\n",
       "3  2024-12-01   West  Widget A    272\n",
       "4  2024-12-01   East  Widget A    337"
      ]
     },
     "execution_count": 7,
     "metadata": {},
     "output_type": "execute_result"
    }
   ],
   "source": [
    "# Загружаем данные из файла\n",
    "df = pd.read_csv(\"data/sales_data_large.csv\")\n",
    "df.head(5)"
   ]
  },
  {
   "cell_type": "code",
   "execution_count": 8,
   "id": "e5c70e23-76fe-4030-802f-c09976f8f56c",
   "metadata": {},
   "outputs": [
    {
     "name": "stdout",
     "output_type": "stream",
     "text": [
      "<class 'pandas.core.frame.DataFrame'>\n",
      "RangeIndex: 500 entries, 0 to 499\n",
      "Data columns (total 4 columns):\n",
      " #   Column   Non-Null Count  Dtype \n",
      "---  ------   --------------  ----- \n",
      " 0   date     500 non-null    object\n",
      " 1   region   500 non-null    object\n",
      " 2   product  500 non-null    object\n",
      " 3   sales    500 non-null    int64 \n",
      "dtypes: int64(1), object(3)\n",
      "memory usage: 15.8+ KB\n"
     ]
    }
   ],
   "source": [
    "df.info()"
   ]
  },
  {
   "cell_type": "code",
   "execution_count": 9,
   "id": "75fc8660-cfee-4b77-bdb7-e906fa0551d0",
   "metadata": {},
   "outputs": [
    {
     "data": {
      "text/plain": [
       "500"
      ]
     },
     "execution_count": 9,
     "metadata": {},
     "output_type": "execute_result"
    }
   ],
   "source": [
    "# Общее количество записей. \n",
    "df.shape[0]"
   ]
  },
  {
   "cell_type": "code",
   "execution_count": 10,
   "id": "b80971f2-ef24-46e0-b6cc-ad1204911152",
   "metadata": {},
   "outputs": [
    {
     "name": "stdout",
     "output_type": "stream",
     "text": [
      "['West' 'South' 'East' 'North']\n",
      "['Widget C' 'Widget B' 'Widget A']\n"
     ]
    }
   ],
   "source": [
    "# Какие регионы и продукты присутствуют в данных\n",
    "print(df['region'].unique())\n",
    "print(df['product'].unique())"
   ]
  },
  {
   "cell_type": "code",
   "execution_count": 12,
   "id": "609c9dab-d109-4d63-ade7-cf421e6a11a7",
   "metadata": {},
   "outputs": [
    {
     "data": {
      "text/html": [
       "<div>\n",
       "<style scoped>\n",
       "    .dataframe tbody tr th:only-of-type {\n",
       "        vertical-align: middle;\n",
       "    }\n",
       "\n",
       "    .dataframe tbody tr th {\n",
       "        vertical-align: top;\n",
       "    }\n",
       "\n",
       "    .dataframe thead th {\n",
       "        text-align: right;\n",
       "    }\n",
       "</style>\n",
       "<table border=\"1\" class=\"dataframe\">\n",
       "  <thead>\n",
       "    <tr style=\"text-align: right;\">\n",
       "      <th></th>\n",
       "      <th>sales</th>\n",
       "    </tr>\n",
       "    <tr>\n",
       "      <th>region</th>\n",
       "      <th></th>\n",
       "    </tr>\n",
       "  </thead>\n",
       "  <tbody>\n",
       "    <tr>\n",
       "      <th>East</th>\n",
       "      <td>29244</td>\n",
       "    </tr>\n",
       "    <tr>\n",
       "      <th>North</th>\n",
       "      <td>39605</td>\n",
       "    </tr>\n",
       "    <tr>\n",
       "      <th>South</th>\n",
       "      <td>33023</td>\n",
       "    </tr>\n",
       "    <tr>\n",
       "      <th>West</th>\n",
       "      <td>35171</td>\n",
       "    </tr>\n",
       "  </tbody>\n",
       "</table>\n",
       "</div>"
      ],
      "text/plain": [
       "        sales\n",
       "region       \n",
       "East    29244\n",
       "North   39605\n",
       "South   33023\n",
       "West    35171"
      ]
     },
     "execution_count": 12,
     "metadata": {},
     "output_type": "execute_result"
    }
   ],
   "source": [
    "# Общие продажи по регионам\n",
    "df.groupby('region')['sales'].sum().to_frame()"
   ]
  },
  {
   "cell_type": "code",
   "execution_count": 13,
   "id": "ef9a8553-fd3c-472f-984c-ef6c8d177155",
   "metadata": {},
   "outputs": [
    {
     "data": {
      "text/html": [
       "<div>\n",
       "<style scoped>\n",
       "    .dataframe tbody tr th:only-of-type {\n",
       "        vertical-align: middle;\n",
       "    }\n",
       "\n",
       "    .dataframe tbody tr th {\n",
       "        vertical-align: top;\n",
       "    }\n",
       "\n",
       "    .dataframe thead th {\n",
       "        text-align: right;\n",
       "    }\n",
       "</style>\n",
       "<table border=\"1\" class=\"dataframe\">\n",
       "  <thead>\n",
       "    <tr style=\"text-align: right;\">\n",
       "      <th></th>\n",
       "      <th>sales</th>\n",
       "    </tr>\n",
       "    <tr>\n",
       "      <th>product</th>\n",
       "      <th></th>\n",
       "    </tr>\n",
       "  </thead>\n",
       "  <tbody>\n",
       "    <tr>\n",
       "      <th>Widget A</th>\n",
       "      <td>275.424242</td>\n",
       "    </tr>\n",
       "    <tr>\n",
       "      <th>Widget B</th>\n",
       "      <td>268.331361</td>\n",
       "    </tr>\n",
       "    <tr>\n",
       "      <th>Widget C</th>\n",
       "      <td>278.614458</td>\n",
       "    </tr>\n",
       "  </tbody>\n",
       "</table>\n",
       "</div>"
      ],
      "text/plain": [
       "               sales\n",
       "product             \n",
       "Widget A  275.424242\n",
       "Widget B  268.331361\n",
       "Widget C  278.614458"
      ]
     },
     "execution_count": 13,
     "metadata": {},
     "output_type": "execute_result"
    }
   ],
   "source": [
    "# Средний объем продаж для каждого продукта.\n",
    "df.groupby('product')['sales'].mean().to_frame()"
   ]
  },
  {
   "cell_type": "code",
   "execution_count": 15,
   "id": "b8bb8ebb-2664-4535-85cd-4d9f1d29db8e",
   "metadata": {},
   "outputs": [
    {
     "data": {
      "text/html": [
       "<div>\n",
       "<style scoped>\n",
       "    .dataframe tbody tr th:only-of-type {\n",
       "        vertical-align: middle;\n",
       "    }\n",
       "\n",
       "    .dataframe tbody tr th {\n",
       "        vertical-align: top;\n",
       "    }\n",
       "\n",
       "    .dataframe thead th {\n",
       "        text-align: right;\n",
       "    }\n",
       "</style>\n",
       "<table border=\"1\" class=\"dataframe\">\n",
       "  <thead>\n",
       "    <tr style=\"text-align: right;\">\n",
       "      <th>product</th>\n",
       "      <th>Widget A</th>\n",
       "      <th>Widget B</th>\n",
       "      <th>Widget C</th>\n",
       "    </tr>\n",
       "    <tr>\n",
       "      <th>region</th>\n",
       "      <th></th>\n",
       "      <th></th>\n",
       "      <th></th>\n",
       "    </tr>\n",
       "  </thead>\n",
       "  <tbody>\n",
       "    <tr>\n",
       "      <th>East</th>\n",
       "      <td>291.464286</td>\n",
       "      <td>263.116279</td>\n",
       "      <td>271.361111</td>\n",
       "    </tr>\n",
       "    <tr>\n",
       "      <th>North</th>\n",
       "      <td>289.145833</td>\n",
       "      <td>238.477273</td>\n",
       "      <td>304.660000</td>\n",
       "    </tr>\n",
       "    <tr>\n",
       "      <th>South</th>\n",
       "      <td>277.380952</td>\n",
       "      <td>282.833333</td>\n",
       "      <td>263.722222</td>\n",
       "    </tr>\n",
       "    <tr>\n",
       "      <th>West</th>\n",
       "      <td>250.106383</td>\n",
       "      <td>291.550000</td>\n",
       "      <td>267.136364</td>\n",
       "    </tr>\n",
       "  </tbody>\n",
       "</table>\n",
       "</div>"
      ],
      "text/plain": [
       "product    Widget A    Widget B    Widget C\n",
       "region                                     \n",
       "East     291.464286  263.116279  271.361111\n",
       "North    289.145833  238.477273  304.660000\n",
       "South    277.380952  282.833333  263.722222\n",
       "West     250.106383  291.550000  267.136364"
      ]
     },
     "execution_count": 15,
     "metadata": {},
     "output_type": "execute_result"
    }
   ],
   "source": [
    "# Постройте сводную таблицу, показывающую средние продажи по регионам и продуктам.\n",
    "summary = df.pivot_table(values='sales', index='region', columns='product', aggfunc='mean')\n",
    "summary"
   ]
  },
  {
   "cell_type": "markdown",
   "id": "b0b1fd78-cfce-4971-8ea5-db7f79608e9b",
   "metadata": {},
   "source": [
    "## Задание 3: Очистка данных и визуализация  \n",
    "\n",
    "Цель: Проверить умение находить и исправлять ошибки в данных, а также визуализировать их.  \n",
    "\n",
    "Данные: Используйте предоставленный CSV-файл (\"sales_cleaning_large.csv\"), содержащий данные о продажах с возможными пропущенными и некорректными значениями. Поля:  \n",
    "- date (дата продаж),  \n",
    "- sales (объем продаж),  \n",
    "- region (регион).  \n",
    "\n",
    "Задание:  \n",
    "1. Найдите и устраните ошибки в данных:  \n",
    "2. Заполните пропущенные даты.  \n",
    "3. Удалите отрицательные значения в столбце sales или замените их на медиану столбца.  \n",
    "4. Заполните пропущенные значения в sales средним значением.  \n",
    "5. Постройте график продаж по датам. Убедитесь, что даты упорядочены.  \n",
    "\n",
    "Ожидаемый ответ:  \n",
    "- Обработанный DataFrame.\n",
    "- Построенный график."
   ]
  },
  {
   "cell_type": "code",
   "execution_count": 25,
   "id": "7d7397cc-c058-4248-9d72-19695dc518bb",
   "metadata": {},
   "outputs": [
    {
     "name": "stdout",
     "output_type": "stream",
     "text": [
      "<class 'pandas.core.frame.DataFrame'>\n",
      "RangeIndex: 200 entries, 0 to 199\n",
      "Data columns (total 3 columns):\n",
      " #   Column  Non-Null Count  Dtype  \n",
      "---  ------  --------------  -----  \n",
      " 0   date    190 non-null    object \n",
      " 1   sales   190 non-null    float64\n",
      " 2   region  200 non-null    object \n",
      "dtypes: float64(1), object(2)\n",
      "memory usage: 4.8+ KB\n"
     ]
    }
   ],
   "source": [
    "df = pd.read_csv(\"data/sales_cleaning_large.csv\")\n",
    "df.info()"
   ]
  },
  {
   "cell_type": "code",
   "execution_count": 26,
   "id": "5f60afa7-5436-4a8e-87d8-18767b401b11",
   "metadata": {},
   "outputs": [
    {
     "data": {
      "text/html": [
       "<div>\n",
       "<style scoped>\n",
       "    .dataframe tbody tr th:only-of-type {\n",
       "        vertical-align: middle;\n",
       "    }\n",
       "\n",
       "    .dataframe tbody tr th {\n",
       "        vertical-align: top;\n",
       "    }\n",
       "\n",
       "    .dataframe thead th {\n",
       "        text-align: right;\n",
       "    }\n",
       "</style>\n",
       "<table border=\"1\" class=\"dataframe\">\n",
       "  <thead>\n",
       "    <tr style=\"text-align: right;\">\n",
       "      <th></th>\n",
       "      <th>date</th>\n",
       "      <th>sales</th>\n",
       "      <th>region</th>\n",
       "    </tr>\n",
       "  </thead>\n",
       "  <tbody>\n",
       "    <tr>\n",
       "      <th>0</th>\n",
       "      <td>2024-12-01</td>\n",
       "      <td>-450.0</td>\n",
       "      <td>East</td>\n",
       "    </tr>\n",
       "    <tr>\n",
       "      <th>1</th>\n",
       "      <td>2024-12-01</td>\n",
       "      <td>400.0</td>\n",
       "      <td>East</td>\n",
       "    </tr>\n",
       "    <tr>\n",
       "      <th>2</th>\n",
       "      <td>2024-12-01</td>\n",
       "      <td>-100.0</td>\n",
       "      <td>South</td>\n",
       "    </tr>\n",
       "    <tr>\n",
       "      <th>3</th>\n",
       "      <td>2024-12-01</td>\n",
       "      <td>350.0</td>\n",
       "      <td>West</td>\n",
       "    </tr>\n",
       "    <tr>\n",
       "      <th>4</th>\n",
       "      <td>2024-12-02</td>\n",
       "      <td>400.0</td>\n",
       "      <td>South</td>\n",
       "    </tr>\n",
       "  </tbody>\n",
       "</table>\n",
       "</div>"
      ],
      "text/plain": [
       "         date  sales region\n",
       "0  2024-12-01 -450.0   East\n",
       "1  2024-12-01  400.0   East\n",
       "2  2024-12-01 -100.0  South\n",
       "3  2024-12-01  350.0   West\n",
       "4  2024-12-02  400.0  South"
      ]
     },
     "execution_count": 26,
     "metadata": {},
     "output_type": "execute_result"
    }
   ],
   "source": [
    "df.head()"
   ]
  },
  {
   "cell_type": "code",
   "execution_count": 28,
   "id": "5710dc11-e58f-4ecb-97d5-6fb6f197af60",
   "metadata": {},
   "outputs": [
    {
     "data": {
      "text/plain": [
       "10"
      ]
     },
     "execution_count": 28,
     "metadata": {},
     "output_type": "execute_result"
    }
   ],
   "source": [
    "# Посмотрим, сколько пропущено дат\n",
    "df[\"date\"].isnull().sum()"
   ]
  },
  {
   "cell_type": "code",
   "execution_count": 32,
   "id": "b2b0bde6-34b6-478d-bb54-eb9e2278982d",
   "metadata": {},
   "outputs": [],
   "source": [
    "# преобразуем столбец 'date' в формат datetime\n",
    "df[\"date\"] = pd.to_datetime(df[\"date\"])\n",
    "# Сортируем\n",
    "df = df.sort_values(by='date')\n",
    "\n",
    "# Найдем границы диапазона дат\n",
    "min_date = df[\"date\"].min()\n",
    "max_date = df[\"date\"].max()\n",
    "date_range = pd.date_range(start=min_date, end=max_date)\n",
    "\n",
    "# Заполняем пропущенные даты случайными датами в указанном диапазоне\n",
    "df[\"date\"] = df[\"date\"].apply(lambda x: x if pd.notnull(x) else pd.to_datetime(np.random.choice(date_range)))"
   ]
  },
  {
   "cell_type": "code",
   "execution_count": 34,
   "id": "cdb78885-be12-4610-89c2-cce4d23eea2a",
   "metadata": {},
   "outputs": [
    {
     "data": {
      "text/plain": [
       "0"
      ]
     },
     "execution_count": 34,
     "metadata": {},
     "output_type": "execute_result"
    }
   ],
   "source": [
    "# Проверим, что пропусков больше нет\n",
    "df[\"date\"].isnull().sum()"
   ]
  },
  {
   "cell_type": "code",
   "execution_count": 38,
   "id": "dba8195e-f09b-414a-a7ed-3fa8518e6685",
   "metadata": {},
   "outputs": [
    {
     "data": {
      "text/plain": [
       "89"
      ]
     },
     "execution_count": 38,
     "metadata": {},
     "output_type": "execute_result"
    }
   ],
   "source": [
    "# Удалите отрицательные значения в столбце sales или замените их на медиану столбца.\n",
    "\n",
    "# количество отрицательных значений до замены\n",
    "df[df[\"sales\"] < 0]['sales'].count()"
   ]
  },
  {
   "cell_type": "code",
   "execution_count": 39,
   "id": "7a91a601-9a60-4e20-b358-07cb84c67fb7",
   "metadata": {},
   "outputs": [],
   "source": [
    "# Решила заменить на медиану, поскольку лучше чтобы данные остались, а не терять 89 записей\n",
    "# считаем медиану для всех положительных значений\n",
    "median_for_sales = df.loc[df[\"sales\"] > 0, \"sales\"].median()"
   ]
  },
  {
   "cell_type": "code",
   "execution_count": 40,
   "id": "73217ce0-eecd-408e-b90f-c3175f73e98d",
   "metadata": {},
   "outputs": [],
   "source": [
    "# заменяем отрицательные значения на медиану\n",
    "df['sales'] = df['sales'].apply(lambda x: median_for_sales if x < 0 else x)"
   ]
  },
  {
   "cell_type": "code",
   "execution_count": 42,
   "id": "250f246a-b0ba-4969-965e-22911a5ffa64",
   "metadata": {},
   "outputs": [
    {
     "data": {
      "text/plain": [
       "0"
      ]
     },
     "execution_count": 42,
     "metadata": {},
     "output_type": "execute_result"
    }
   ],
   "source": [
    "# Проверим, что отрицтаельгых значений больше нет\n",
    "df[df[\"sales\"] < 0]['sales'].count()"
   ]
  },
  {
   "cell_type": "code",
   "execution_count": 43,
   "id": "79e538d6-8d42-41e5-9dfd-bbf0bfa14ac0",
   "metadata": {},
   "outputs": [
    {
     "data": {
      "text/plain": [
       "10"
      ]
     },
     "execution_count": 43,
     "metadata": {},
     "output_type": "execute_result"
    }
   ],
   "source": [
    "# Заполните пропущенные значения в sales средним значением.\n",
    "\n",
    "# Посмотрим количество пропусков\n",
    "df[\"sales\"].isnull().sum()"
   ]
  },
  {
   "cell_type": "code",
   "execution_count": 44,
   "id": "93a7923e-ab3b-4454-a900-1eba3e544a14",
   "metadata": {},
   "outputs": [],
   "source": [
    "# замена на среднее\n",
    "df[\"sales\"] = df[\"sales\"].fillna(df[\"sales\"].mean())"
   ]
  },
  {
   "cell_type": "code",
   "execution_count": 45,
   "id": "e8fb7729-ff52-4bbb-93f8-602c951463ff",
   "metadata": {},
   "outputs": [
    {
     "data": {
      "text/plain": [
       "0"
      ]
     },
     "execution_count": 45,
     "metadata": {},
     "output_type": "execute_result"
    }
   ],
   "source": [
    "# Проверим, что пропусков больше нет\n",
    "df[\"sales\"].isnull().sum()"
   ]
  },
  {
   "cell_type": "code",
   "execution_count": 50,
   "id": "d6e2c2b3-8038-4cbb-bc04-6ce29d4d24db",
   "metadata": {},
   "outputs": [
    {
     "data": {
      "image/png": "[encoded data removed]",
      "text/plain": [
       "<Figure size 1200x600 with 1 Axes>"
      ]
     },
     "metadata": {},
     "output_type": "display_data"
    }
   ],
   "source": [
    "# Постройте график продаж по датам. Убедитесь, что даты упорядочены.\n",
    "df[\"date\"] = pd.to_datetime(df[\"date\"])\n",
    "df_sorted = df.sort_values(by=\"date\")\n",
    "\n",
    "plt.figure(figsize=(12, 6))\n",
    "plt.bar(df_sorted[\"date\"].dt.strftime(\"%Y-%m-%d\"), df_sorted[\"sales\"], color=\"lightgreen\")\n",
    "plt.title(\"График продаж по датам\", fontsize=16)\n",
    "plt.xlabel(\"Дата\", fontsize=12)\n",
    "plt.ylabel(\"Объем продаж\", fontsize=12)\n",
    "plt.xticks(rotation=80)\n",
    "plt.grid(axis=\"y\")\n",
    "plt.tight_layout()\n",
    "plt.show()"
   ]
  },
  {
   "cell_type": "markdown",
   "id": "5bbd2e1b-aa33-4d4e-a054-d41fb7c9f9b1",
   "metadata": {},
   "source": [
    "## Задание 4: Получение данных из API\n",
    "Цель: Проверить способность работать с веб-данными.  \n",
    "\n",
    "Задание:  \n",
    "1. Используйте открытое API (например, https://jsonplaceholder.typicode.com/users).  \n",
    "2. Загрузите данные и создайте DataFrame с полями: id, name, email, company_name.  \n",
    "3. Выведите таблицу с пользователями, работающими в компаниях, название которых содержит слово \"Group\".  \n",
    "\n",
    "Ожидаемый ответ:  \n",
    "- DataFrame с результатами фильтрации.  "
   ]
  },
  {
   "cell_type": "code",
   "execution_count": 21,
   "id": "c933bc2e-4348-43f0-bb26-8098de64a08a",
   "metadata": {},
   "outputs": [
    {
     "data": {
      "text/html": [
       "<div>\n",
       "<style scoped>\n",
       "    .dataframe tbody tr th:only-of-type {\n",
       "        vertical-align: middle;\n",
       "    }\n",
       "\n",
       "    .dataframe tbody tr th {\n",
       "        vertical-align: top;\n",
       "    }\n",
       "\n",
       "    .dataframe thead th {\n",
       "        text-align: right;\n",
       "    }\n",
       "</style>\n",
       "<table border=\"1\" class=\"dataframe\">\n",
       "  <thead>\n",
       "    <tr style=\"text-align: right;\">\n",
       "      <th></th>\n",
       "      <th>id</th>\n",
       "      <th>name</th>\n",
       "      <th>username</th>\n",
       "      <th>email</th>\n",
       "      <th>address</th>\n",
       "      <th>phone</th>\n",
       "      <th>website</th>\n",
       "      <th>company</th>\n",
       "    </tr>\n",
       "  </thead>\n",
       "  <tbody>\n",
       "    <tr>\n",
       "      <th>0</th>\n",
       "      <td>1</td>\n",
       "      <td>Leanne Graham</td>\n",
       "      <td>Bret</td>\n",
       "      <td>Sincere@april.biz</td>\n",
       "      <td>{'street': 'Kulas Light', 'suite': 'Apt. 556',...</td>\n",
       "      <td>1-770-736-8031 x56442</td>\n",
       "      <td>hildegard.org</td>\n",
       "      <td>{'name': 'Romaguera-Crona', 'catchPhrase': 'Mu...</td>\n",
       "    </tr>\n",
       "    <tr>\n",
       "      <th>1</th>\n",
       "      <td>2</td>\n",
       "      <td>Ervin Howell</td>\n",
       "      <td>Antonette</td>\n",
       "      <td>Shanna@melissa.tv</td>\n",
       "      <td>{'street': 'Victor Plains', 'suite': 'Suite 87...</td>\n",
       "      <td>010-692-6593 x09125</td>\n",
       "      <td>anastasia.net</td>\n",
       "      <td>{'name': 'Deckow-Crist', 'catchPhrase': 'Proac...</td>\n",
       "    </tr>\n",
       "    <tr>\n",
       "      <th>2</th>\n",
       "      <td>3</td>\n",
       "      <td>Clementine Bauch</td>\n",
       "      <td>Samantha</td>\n",
       "      <td>Nathan@yesenia.net</td>\n",
       "      <td>{'street': 'Douglas Extension', 'suite': 'Suit...</td>\n",
       "      <td>1-463-123-4447</td>\n",
       "      <td>ramiro.info</td>\n",
       "      <td>{'name': 'Romaguera-Jacobson', 'catchPhrase': ...</td>\n",
       "    </tr>\n",
       "    <tr>\n",
       "      <th>3</th>\n",
       "      <td>4</td>\n",
       "      <td>Patricia Lebsack</td>\n",
       "      <td>Karianne</td>\n",
       "      <td>Julianne.OConner@kory.org</td>\n",
       "      <td>{'street': 'Hoeger Mall', 'suite': 'Apt. 692',...</td>\n",
       "      <td>493-170-9623 x156</td>\n",
       "      <td>kale.biz</td>\n",
       "      <td>{'name': 'Robel-Corkery', 'catchPhrase': 'Mult...</td>\n",
       "    </tr>\n",
       "    <tr>\n",
       "      <th>4</th>\n",
       "      <td>5</td>\n",
       "      <td>Chelsey Dietrich</td>\n",
       "      <td>Kamren</td>\n",
       "      <td>Lucio_Hettinger@annie.ca</td>\n",
       "      <td>{'street': 'Skiles Walks', 'suite': 'Suite 351...</td>\n",
       "      <td>(254)954-1289</td>\n",
       "      <td>demarco.info</td>\n",
       "      <td>{'name': 'Keebler LLC', 'catchPhrase': 'User-c...</td>\n",
       "    </tr>\n",
       "  </tbody>\n",
       "</table>\n",
       "</div>"
      ],
      "text/plain": [
       "   id              name   username                      email  \\\n",
       "0   1     Leanne Graham       Bret          Sincere@april.biz   \n",
       "1   2      Ervin Howell  Antonette          Shanna@melissa.tv   \n",
       "2   3  Clementine Bauch   Samantha         Nathan@yesenia.net   \n",
       "3   4  Patricia Lebsack   Karianne  Julianne.OConner@kory.org   \n",
       "4   5  Chelsey Dietrich     Kamren   Lucio_Hettinger@annie.ca   \n",
       "\n",
       "                                             address                  phone  \\\n",
       "0  {'street': 'Kulas Light', 'suite': 'Apt. 556',...  1-770-736-8031 x56442   \n",
       "1  {'street': 'Victor Plains', 'suite': 'Suite 87...    010-692-6593 x09125   \n",
       "2  {'street': 'Douglas Extension', 'suite': 'Suit...         1-463-123-4447   \n",
       "3  {'street': 'Hoeger Mall', 'suite': 'Apt. 692',...      493-170-9623 x156   \n",
       "4  {'street': 'Skiles Walks', 'suite': 'Suite 351...          (254)954-1289   \n",
       "\n",
       "         website                                            company  \n",
       "0  hildegard.org  {'name': 'Romaguera-Crona', 'catchPhrase': 'Mu...  \n",
       "1  anastasia.net  {'name': 'Deckow-Crist', 'catchPhrase': 'Proac...  \n",
       "2    ramiro.info  {'name': 'Romaguera-Jacobson', 'catchPhrase': ...  \n",
       "3       kale.biz  {'name': 'Robel-Corkery', 'catchPhrase': 'Mult...  \n",
       "4   demarco.info  {'name': 'Keebler LLC', 'catchPhrase': 'User-c...  "
      ]
     },
     "execution_count": 21,
     "metadata": {},
     "output_type": "execute_result"
    }
   ],
   "source": [
    "# Загружаем данные\n",
    "url = \"https://jsonplaceholder.typicode.com/users\"\n",
    "response = requests.get(url)\n",
    "if response.status_code != 200:\n",
    "    print(\"Не удалось загрузить данные из API.\")\n",
    "    raise KeyboardInterrupt\n",
    "\n",
    "data = response.json()\n",
    "\n",
    "# Создаем DataFrame \n",
    "df = pd.DataFrame(data)\n",
    "df.head()"
   ]
  },
  {
   "cell_type": "code",
   "execution_count": 22,
   "id": "4046294a-4ab1-4bf3-9cea-eb920f9dbd03",
   "metadata": {},
   "outputs": [
    {
     "data": {
      "text/html": [
       "<div>\n",
       "<style scoped>\n",
       "    .dataframe tbody tr th:only-of-type {\n",
       "        vertical-align: middle;\n",
       "    }\n",
       "\n",
       "    .dataframe tbody tr th {\n",
       "        vertical-align: top;\n",
       "    }\n",
       "\n",
       "    .dataframe thead th {\n",
       "        text-align: right;\n",
       "    }\n",
       "</style>\n",
       "<table border=\"1\" class=\"dataframe\">\n",
       "  <thead>\n",
       "    <tr style=\"text-align: right;\">\n",
       "      <th></th>\n",
       "      <th>id</th>\n",
       "      <th>name</th>\n",
       "      <th>email</th>\n",
       "      <th>company_name</th>\n",
       "    </tr>\n",
       "  </thead>\n",
       "  <tbody>\n",
       "    <tr>\n",
       "      <th>6</th>\n",
       "      <td>7</td>\n",
       "      <td>Kurtis Weissnat</td>\n",
       "      <td>Telly.Hoeger@billy.biz</td>\n",
       "      <td>Johns Group</td>\n",
       "    </tr>\n",
       "    <tr>\n",
       "      <th>7</th>\n",
       "      <td>8</td>\n",
       "      <td>Nicholas Runolfsdottir V</td>\n",
       "      <td>Sherwood@rosamond.me</td>\n",
       "      <td>Abernathy Group</td>\n",
       "    </tr>\n",
       "  </tbody>\n",
       "</table>\n",
       "</div>"
      ],
      "text/plain": [
       "   id                      name                   email     company_name\n",
       "6   7           Kurtis Weissnat  Telly.Hoeger@billy.biz      Johns Group\n",
       "7   8  Nicholas Runolfsdottir V    Sherwood@rosamond.me  Abernathy Group"
      ]
     },
     "metadata": {},
     "output_type": "display_data"
    }
   ],
   "source": [
    "# Формируем DataFrame с полями: id, name, email, company_name\n",
    "df = df[[\"id\", \"name\", \"email\", \"company\"]]\n",
    "# Делаем столбец company_name, извлекая название компании\n",
    "df['company_name'] = df['company'].apply(lambda x: x['name'])\n",
    "df = df.drop('company', axis=1)\n",
    "    \n",
    "# Фильтруем столбец \"company name\", название которых содержит слово \"Group\".\n",
    "filtered = df[df['company_name'].str.contains(\"Group\", case=False)]\n",
    "    \n",
    "# Вывод таблицы с результатами фильтрации\n",
    "display(filtered)"
   ]
  }
 ],
 "metadata": {
  "kernelspec": {
   "display_name": "Python 3 (ipykernel)",
   "language": "python",
   "name": "python3"
  },
  "language_info": {
   "codemirror_mode": {
    "name": "ipython",
    "version": 3
   },
   "file_extension": ".py",
   "mimetype": "text/x-python",
   "name": "python",
   "nbconvert_exporter": "python",
   "pygments_lexer": "ipython3",
   "version": "3.11.5"
  }
 },
 "nbformat": 4,
 "nbformat_minor": 5
}

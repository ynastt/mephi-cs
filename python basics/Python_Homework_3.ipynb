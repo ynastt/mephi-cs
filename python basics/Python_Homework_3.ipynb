{
  "cells": [
    {
      "cell_type": "code",
      "execution_count": 1,
      "metadata": {
        "id": "MXXTuy_o0sjk",
        "colab": {
          "base_uri": "https://localhost:8080/"
        },
        "outputId": "846d179c-13d5-4a2b-c300-2aacdfccfa9c"
      },
      "outputs": [
        {
          "output_type": "stream",
          "name": "stdout",
          "text": [
            "  Preparing metadata (setup.py) ... \u001b[?25l\u001b[?25hdone\n",
            "\u001b[2K   \u001b[90m━━━━━━━━━━━━━━━━━━━━━━━━━━━━━━━━━━━━━━━━\u001b[0m \u001b[32m1.9/1.9 MB\u001b[0m \u001b[31m22.0 MB/s\u001b[0m eta \u001b[36m0:00:00\u001b[0m\n",
            "\u001b[2K   \u001b[90m━━━━━━━━━━━━━━━━━━━━━━━━━━━━━━━━━━━━━━━━\u001b[0m \u001b[32m953.8/953.8 kB\u001b[0m \u001b[31m47.6 MB/s\u001b[0m eta \u001b[36m0:00:00\u001b[0m\n",
            "\u001b[2K   \u001b[90m━━━━━━━━━━━━━━━━━━━━━━━━━━━━━━━━━━━━━━━━\u001b[0m \u001b[32m840.2/840.2 kB\u001b[0m \u001b[31m28.3 MB/s\u001b[0m eta \u001b[36m0:00:00\u001b[0m\n",
            "\u001b[2K   \u001b[90m━━━━━━━━━━━━━━━━━━━━━━━━━━━━━━━━━━━━━━━━\u001b[0m \u001b[32m178.7/178.7 kB\u001b[0m \u001b[31m11.6 MB/s\u001b[0m eta \u001b[36m0:00:00\u001b[0m\n",
            "\u001b[?25h  Building wheel for Chessnut (setup.py) ... \u001b[?25l\u001b[?25hdone\n"
          ]
        }
      ],
      "source": [
        "!pip install -q -U kaggle_environments"
      ]
    },
    {
      "cell_type": "code",
      "execution_count": 2,
      "metadata": {
        "id": "yz23vWHD0wcj",
        "colab": {
          "base_uri": "https://localhost:8080/"
        },
        "outputId": "fd402197-244d-4b9d-eab7-21647b6e4a40"
      },
      "outputs": [
        {
          "output_type": "stream",
          "name": "stdout",
          "text": [
            "Loading environment lux_ai_s3 failed: No module named 'gymnax'\n"
          ]
        }
      ],
      "source": [
        "import numpy as np\n",
        "import pandas as pd\n",
        "import random\n",
        "\n",
        "import matplotlib.pyplot as plt\n",
        "import seaborn as sns\n",
        "\n",
        "from kaggle_environments import make, evaluate"
      ]
    },
    {
      "cell_type": "markdown",
      "metadata": {
        "id": "0kuo6IOxiRub"
      },
      "source": [
        "Опишем поведение агента, всегда играющего \"камень\" - это значение 0\n"
      ]
    },
    {
      "cell_type": "code",
      "execution_count": 3,
      "metadata": {
        "colab": {
          "base_uri": "https://localhost:8080/"
        },
        "id": "bqTqV7B92rJ6",
        "outputId": "50f5fae1-8189-4bff-a098-b14730ac798f"
      },
      "outputs": [
        {
          "output_type": "stream",
          "name": "stdout",
          "text": [
            "Writing rock_agent.py\n"
          ]
        }
      ],
      "source": [
        "%%writefile rock_agent.py\n",
        "\n",
        "#Example of the simple agent\n",
        "#0 - rock\n",
        "#1 - paper\n",
        "#2 - scissors\n",
        "def your_agent(observation, configuration):\n",
        "    return 0"
      ]
    },
    {
      "cell_type": "markdown",
      "metadata": {
        "id": "et1J5hUGigeh"
      },
      "source": [
        "Попробуем теперь использовать информацию о прошлых действиях противника. Опишем\n",
        "агента, который производит то же самое действие, что и оппонент на прошлом ходу"
      ]
    },
    {
      "cell_type": "code",
      "execution_count": 4,
      "metadata": {
        "colab": {
          "base_uri": "https://localhost:8080/"
        },
        "id": "7l6Ttw6qi0jk",
        "outputId": "332a81b0-02a0-47d7-f801-fbc64aba6c2d"
      },
      "outputs": [
        {
          "output_type": "stream",
          "name": "stdout",
          "text": [
            "Writing copy_opponent.py\n"
          ]
        }
      ],
      "source": [
        "%%writefile copy_opponent.py\n",
        "\n",
        "#Example\n",
        "def copy_opponent(observation, configuration):\n",
        "    #in case we have information about opponent last move\n",
        "    if observation.step > 0:\n",
        "        return observation.lastOpponentAction\n",
        "    #initial step\n",
        "    else:\n",
        "        return random.randrange(0, 3)"
      ]
    },
    {
      "cell_type": "markdown",
      "metadata": {
        "id": "ExgIpXUVjbjN"
      },
      "source": [
        "Воспользуемся функцией evaluate из библиотеки kaggle_environments с помощью которой запустим наших агентов и проведем эксперимент на заданном количестве игр"
      ]
    },
    {
      "cell_type": "code",
      "execution_count": 5,
      "metadata": {
        "colab": {
          "base_uri": "https://localhost:8080/"
        },
        "id": "wv6Ip6M004xa",
        "outputId": "6c4bacf7-58d4-4765-b323-0d2a895aadbf"
      },
      "outputs": [
        {
          "output_type": "execute_result",
          "data": {
            "text/plain": [
              "[[1, None]]"
            ]
          },
          "metadata": {},
          "execution_count": 5
        }
      ],
      "source": [
        "evaluate(\n",
        "    \"rps\", #environment to use - no need to change\n",
        "    [\"rock_agent.py\", \"copy_opponent.py\"], #agents to evaluate\n",
        "    configuration={\"episodeSteps\": 100} #number of episodes\n",
        ")"
      ]
    },
    {
      "cell_type": "code",
      "execution_count": 6,
      "metadata": {
        "colab": {
          "base_uri": "https://localhost:8080/"
        },
        "id": "FC6_QWe9k3rr",
        "outputId": "78b14610-0295-4680-80d1-618ee1983858"
      },
      "outputs": [
        {
          "output_type": "execute_result",
          "data": {
            "text/plain": [
              "[[-99.0, 99.0]]"
            ]
          },
          "metadata": {},
          "execution_count": 6
        }
      ],
      "source": [
        "evaluate(\n",
        "    \"rps\", #environment to use - no need to change\n",
        "    [\"rock_agent.py\", \"paper\"], #agents to evaluate\n",
        "    configuration={\"episodeSteps\": 100} #number of episodes\n",
        ")"
      ]
    },
    {
      "cell_type": "markdown",
      "metadata": {
        "id": "Q2tPerI_SVsA"
      },
      "source": [
        "Создадим разных агентов с разным поведением (разными стратегиями)\n"
      ]
    },
    {
      "cell_type": "markdown",
      "source": [
        "observation - информация о текущем состоянии игры  \n",
        "configuration - конфигурация игры"
      ],
      "metadata": {
        "id": "QGEQFB3FqNVW"
      }
    },
    {
      "cell_type": "code",
      "source": [
        "# 1) Агент, играющий только камнем\n",
        "def rock_agent(observation, configuration):\n",
        "    return 0"
      ],
      "metadata": {
        "id": "scz7mgQ7pgQA"
      },
      "execution_count": 7,
      "outputs": []
    },
    {
      "cell_type": "code",
      "source": [
        "# 2) Агент, играющий только бумагой\n",
        "def paper_agent(observation, configuration):\n",
        "    return 1"
      ],
      "metadata": {
        "id": "D1zUbiNPpgkd"
      },
      "execution_count": 8,
      "outputs": []
    },
    {
      "cell_type": "code",
      "source": [
        "# 3)  Агент, играющий только ножницами\n",
        "def scissors_agent(observation, configuration):\n",
        "    return 2"
      ],
      "metadata": {
        "id": "KfCTsr-MpnsN"
      },
      "execution_count": 9,
      "outputs": []
    },
    {
      "cell_type": "code",
      "source": [
        "# 4) Агент, всегда копирующий последнее действие оппонента\n",
        "def copy_opponent_agent(observation, configuration):\n",
        "    # Если последнее действие противника было (это не первый ход),\n",
        "    # то копируем, иначе - рандомный ход\n",
        "    if observation.get('step', 0) > 0:\n",
        "        return observation.lastOpponentAction\n",
        "    else:\n",
        "        return random.choice([0, 1, 2])"
      ],
      "metadata": {
        "id": "2zjD0fT_pw5R"
      },
      "execution_count": 15,
      "outputs": []
    },
    {
      "cell_type": "code",
      "source": [
        "# 5) Агент, выбирающий рандомно как сыграть (камень, ножницы, бумага)\n",
        "def random_agent(observation, configuration):\n",
        "    return random.choice([0, 1, 2])"
      ],
      "metadata": {
        "id": "cM1ZbAAXppCM"
      },
      "execution_count": 11,
      "outputs": []
    },
    {
      "cell_type": "code",
      "source": [
        "# 6) Агент, играющий по правилу (0, 2, 1, 0, 2, 1, ...)\n",
        "# Идет по классическому циклу (камень, ножницы, бумага)\n",
        "def classic_cycle_agent(observation, configuration):\n",
        "    # Если первый шаг, то камень, иначе далее по циклу\n",
        "    if observation.get('step', 0) == 0:\n",
        "        return 0\n",
        "    else:\n",
        "        return (observation.get('lastOpponentAction', 0) + 2) % 3"
      ],
      "metadata": {
        "id": "X8kd8-TCu03Y"
      },
      "execution_count": 13,
      "outputs": []
    },
    {
      "cell_type": "code",
      "source": [
        "# 7) Агент, играющий по правилу (0, 1, 2, 0, 1, 2, ...)\n",
        "# Идет по циклу (камень, бумага, ножницы)\n",
        "def cycle_agent(observation, configuration):\n",
        "    # Если первый шаг, то камень, иначе далее по циклу\n",
        "    if observation.get('step', 0) == 0:\n",
        "        return 0\n",
        "    else:\n",
        "        return (observation.get('lastOpponentAction', 0) + 1) % 3"
      ],
      "metadata": {
        "id": "b4qzQbuap0k9"
      },
      "execution_count": 14,
      "outputs": []
    },
    {
      "cell_type": "code",
      "source": [
        "# 8) Агент, который играет ходом, который бьет последнее действие оппонента\n",
        "# Если 0, то ход 1, если 1 - то 2, если 2 - то 0\n",
        "def beat_last_agent(observation, configuration):\n",
        "    # бьет последний ход противника, или случайный ход, если первый шаг\n",
        "    if observation.get('step', 0) > 0:\n",
        "        return (observation.get('lastOpponentAction', 0) + 1) % 3\n",
        "    else:\n",
        "        return random.choice([0, 1, 2])"
      ],
      "metadata": {
        "id": "12FoDoqhpyjK"
      },
      "execution_count": 17,
      "outputs": []
    },
    {
      "cell_type": "code",
      "source": [
        "# 9) Агент, который бьет ход classic_cycle_agent\n",
        "# (если камень- бумага, если ножницы - камень, если бумага - ножницы)\n",
        "def beat_classic_cycle_agent(observation, configuration):\n",
        "    if observation.get('step', 0) == 0:\n",
        "        return random.choice([0, 1, 2])\n",
        "    else:\n",
        "        return (observation.get('lastOpponentAction', 0) + 1) % 3"
      ],
      "metadata": {
        "id": "TtHkPu7Gp2GT"
      },
      "execution_count": 23,
      "outputs": []
    },
    {
      "cell_type": "code",
      "source": [
        "# 10) Агент, использующий смешанную стратегию для выбора хода с преимуществом выбора камня\n",
        "def mixed_choice_agent_rock(observation, configuration):\n",
        "    choices = [0, 0, 0, 1, 1, 2]\n",
        "    return random.choice(choices)"
      ],
      "metadata": {
        "id": "wL9W3TCYp716"
      },
      "execution_count": 19,
      "outputs": []
    },
    {
      "cell_type": "code",
      "source": [
        "# 11) Агент, который использует смешанную стратегию для выбора хода с преимуществом выбора бумаги\n",
        "def mixed_choice_agent_paper(observation, configuration):\n",
        "    choices = [0, 0, 1, 1, 1, 2]\n",
        "    return random.choice(choices)"
      ],
      "metadata": {
        "id": "I2d7DFlEp9f6"
      },
      "execution_count": 20,
      "outputs": []
    },
    {
      "cell_type": "code",
      "source": [
        "# 12) Агент, который использует смешанную стратегию для выбора хода с преимуществом выбора ножниц\n",
        "def mixed_choice_agent_scissors(observation, configuration):\n",
        "    choices = [0, 1, 1, 2, 2, 2]\n",
        "    return random.choice(choices)"
      ],
      "metadata": {
        "id": "PpsevNGDp_EJ"
      },
      "execution_count": 21,
      "outputs": []
    },
    {
      "cell_type": "code",
      "source": [
        "# 13) Агент всегда опирающийся на статистику ходов соперника\n",
        "\n",
        "action_histogram = {}\n",
        "\n",
        "def statistical_agent(observation, configuration):\n",
        "    global action_histogram\n",
        "    # Если первый шаг, то создаем словарь статистики\n",
        "    if observation.get('step', 0) == 0:\n",
        "        action_histogram = {}\n",
        "        return random.choice([0, 1, 2])\n",
        "    # Если действия нет в статистике - создаем, если есть - увеличиваем счетчик\n",
        "    action = observation.get('lastOpponentAction', 0)\n",
        "    if action not in action_histogram:\n",
        "        action_histogram[action] = 0\n",
        "    action_histogram[action] += 1\n",
        "    # Находим моду - наиболее часто встречающееся\n",
        "    mode_action = None\n",
        "    mode_action_count = None\n",
        "    for k, v in action_histogram.items():\n",
        "        if mode_action_count is None or v > mode_action_count:\n",
        "            mode_action = k\n",
        "            mode_action_count = v\n",
        "            continue\n",
        "    # В соответствии с наиболее часто встречающимся ходом - возвращаем тот, который побьет его\n",
        "    return (mode_action + 1) % 3"
      ],
      "metadata": {
        "id": "6paWi2AX6sar"
      },
      "execution_count": 29,
      "outputs": []
    },
    {
      "cell_type": "code",
      "source": [
        "# 14) Агент, играющий по правилу (0, 0, 2, 2, 1, 1, 0, 0, ...)\n",
        "# Идет по классическому циклу (камень, ножницы, бумага) но повторяет шаг 2 раза\n",
        "\n",
        "action_repeat = {}\n",
        "\n",
        "def repeat2_classic_cycle_agent(observation, configuration):\n",
        "    global action_repeat\n",
        "    # Если первый шаг, то создаем словарь повторов\n",
        "    if observation.get('step', 0) == 0:\n",
        "        action_repeat = {}\n",
        "        return random.choice([0, 1, 2])\n",
        "    # Если действия нет в словаре повторов, значит добавляем, если есть, то проверяем сколько повторов\n",
        "    # Если повторов два, переходим к следующему шагу цикла\n",
        "    action = observation.get('lastOpponentAction', 0)\n",
        "    action_do = 0\n",
        "    if action not in action_repeat:\n",
        "        action_repeat[action] = 0\n",
        "\n",
        "    if action_repeat[action] < 2:\n",
        "        action_repeat[action] += 1\n",
        "        action_do = action\n",
        "    else:\n",
        "        action_repeat[action] = 0\n",
        "        action_do = (action + 2) % 3\n",
        "    return action_do"
      ],
      "metadata": {
        "id": "XZXOhxAJAP_1"
      },
      "execution_count": 30,
      "outputs": []
    },
    {
      "cell_type": "code",
      "source": [
        "# Список агентов\n",
        "agents = [\n",
        "    rock_agent,\n",
        "    paper_agent,\n",
        "    scissors_agent,\n",
        "    copy_opponent_agent,\n",
        "    random_agent,\n",
        "    classic_cycle_agent,\n",
        "    cycle_agent,\n",
        "    beat_last_agent,\n",
        "    beat_classic_cycle_agent,\n",
        "    mixed_choice_agent_paper,\n",
        "    mixed_choice_agent_rock,\n",
        "    mixed_choice_agent_scissors,\n",
        "    statistical_agent,\n",
        "    repeat2_classic_cycle_agent\n",
        "]\n",
        "\n",
        "# Проверка допустимости возвращаемых значений у агентов (0, 1 или 2)\n",
        "def check_valid_steps_agents(agents):\n",
        "    errors_are = False\n",
        "    for agent in agents:\n",
        "        try:\n",
        "            result = agent({'step': 0, 'lastOpponentAction': None, 'history': []}, {})\n",
        "            if result not in [0, 1, 2]:\n",
        "                print(f\"Недопустимое значение шага: {result} у агента {agent.__name__}\")\n",
        "                errors_are = True\n",
        "        except Exception as e:\n",
        "            print(e)\n",
        "            errors_are = True\n",
        "\n",
        "    if not errors_are:\n",
        "        print(\"Недопустимых значений шагов у агентов не обнаружено\")\n",
        "\n",
        "# Проверка всех агентов\n",
        "check_valid_steps_agents(agents)"
      ],
      "metadata": {
        "colab": {
          "base_uri": "https://localhost:8080/"
        },
        "id": "8aY9hM0WWX7i",
        "outputId": "6e685660-f761-4d37-8b9d-b606f7045dc4"
      },
      "execution_count": 32,
      "outputs": [
        {
          "output_type": "stream",
          "name": "stdout",
          "text": [
            "Недопустимых значений шагов у агентов не обнаружено\n"
          ]
        }
      ]
    },
    {
      "cell_type": "markdown",
      "source": [
        "Запустим турнир"
      ],
      "metadata": {
        "id": "sxtRdNuND-DE"
      }
    },
    {
      "cell_type": "code",
      "source": [
        "from collections import defaultdict\n",
        "\n",
        "# Запуск турнира\n",
        "results = []\n",
        "for i in range(len(agents)):\n",
        "    for j in range(i + 1, len(agents)):\n",
        "        agent1 = agents[i]\n",
        "        agent2 = agents[j]\n",
        "        match_result = evaluate(\n",
        "            \"rps\",  # environment to use\n",
        "            [agent1, agent2],  # agents to evaluate\n",
        "            configuration={\"episodeSteps\": 100}  # number of episodes\n",
        "        )\n",
        "        results.append((agent1.__name__, agent2.__name__, match_result))\n",
        "\n",
        "# Вывод результатов\n",
        "for result in results:\n",
        "    print(f\"Агент 1: {result[0]}\\nАгент 2: {result[1]}\\nРезультат: {result[2]}\\n\")\n",
        "\n",
        "# Вывод результатов в таблице\n",
        "res_data = []\n",
        "for result in results:\n",
        "    res_data.append({\"Агент 1\": result[0], \"Агент 2\": result[1], \"Результат\": result[2]})\n",
        "print(pd.DataFrame(res_data))"
      ],
      "metadata": {
        "colab": {
          "base_uri": "https://localhost:8080/"
        },
        "id": "40yWpCILWZEZ",
        "outputId": "9b2c7b37-9225-42df-da1f-695317983954"
      },
      "execution_count": 47,
      "outputs": [
        {
          "output_type": "stream",
          "name": "stdout",
          "text": [
            "Агент 1: rock_agent\n",
            "Агент 2: paper_agent\n",
            "Результат: [[-99.0, 99.0]]\n",
            "\n",
            "Агент 1: rock_agent\n",
            "Агент 2: scissors_agent\n",
            "Результат: [[99.0, -99.0]]\n",
            "\n",
            "Агент 1: rock_agent\n",
            "Агент 2: copy_opponent_agent\n",
            "Результат: [[0, 0]]\n",
            "\n",
            "Агент 1: rock_agent\n",
            "Агент 2: random_agent\n",
            "Результат: [[0, 0]]\n",
            "\n",
            "Агент 1: rock_agent\n",
            "Агент 2: classic_cycle_agent\n",
            "Результат: [[98.0, -98.0]]\n",
            "\n",
            "Агент 1: rock_agent\n",
            "Агент 2: cycle_agent\n",
            "Результат: [[-98.0, 98.0]]\n",
            "\n",
            "Агент 1: rock_agent\n",
            "Агент 2: beat_last_agent\n",
            "Результат: [[-98.0, 98.0]]\n",
            "\n",
            "Агент 1: rock_agent\n",
            "Агент 2: beat_classic_cycle_agent\n",
            "Результат: [[-99.0, 99.0]]\n",
            "\n",
            "Агент 1: rock_agent\n",
            "Агент 2: mixed_choice_agent_paper\n",
            "Результат: [[-30.0, 30.0]]\n",
            "\n",
            "Агент 1: rock_agent\n",
            "Агент 2: mixed_choice_agent_rock\n",
            "Результат: [[0, 0]]\n",
            "\n",
            "Агент 1: rock_agent\n",
            "Агент 2: mixed_choice_agent_scissors\n",
            "Результат: [[0, 0]]\n",
            "\n",
            "Агент 1: rock_agent\n",
            "Агент 2: statistical_agent\n",
            "Результат: [[-99.0, 99.0]]\n",
            "\n",
            "Агент 1: rock_agent\n",
            "Агент 2: repeat2_classic_cycle_agent\n",
            "Результат: [[31.0, -31.0]]\n",
            "\n",
            "Агент 1: paper_agent\n",
            "Агент 2: scissors_agent\n",
            "Результат: [[-99.0, 99.0]]\n",
            "\n",
            "Агент 1: paper_agent\n",
            "Агент 2: copy_opponent_agent\n",
            "Результат: [[0, 0]]\n",
            "\n",
            "Агент 1: paper_agent\n",
            "Агент 2: random_agent\n",
            "Результат: [[0, 0]]\n",
            "\n",
            "Агент 1: paper_agent\n",
            "Агент 2: classic_cycle_agent\n",
            "Результат: [[99.0, -99.0]]\n",
            "\n",
            "Агент 1: paper_agent\n",
            "Агент 2: cycle_agent\n",
            "Результат: [[-97.0, 97.0]]\n",
            "\n",
            "Агент 1: paper_agent\n",
            "Агент 2: beat_last_agent\n",
            "Результат: [[-99.0, 99.0]]\n",
            "\n",
            "Агент 1: paper_agent\n",
            "Агент 2: beat_classic_cycle_agent\n",
            "Результат: [[-98.0, 98.0]]\n",
            "\n",
            "Агент 1: paper_agent\n",
            "Агент 2: mixed_choice_agent_paper\n",
            "Результат: [[0, 0]]\n",
            "\n",
            "Агент 1: paper_agent\n",
            "Агент 2: mixed_choice_agent_rock\n",
            "Результат: [[34.0, -34.0]]\n",
            "\n",
            "Агент 1: paper_agent\n",
            "Агент 2: mixed_choice_agent_scissors\n",
            "Результат: [[-34.0, 34.0]]\n",
            "\n",
            "Агент 1: paper_agent\n",
            "Агент 2: statistical_agent\n",
            "Результат: [[-98.0, 98.0]]\n",
            "\n",
            "Агент 1: paper_agent\n",
            "Агент 2: repeat2_classic_cycle_agent\n",
            "Результат: [[31.0, -31.0]]\n",
            "\n",
            "Агент 1: scissors_agent\n",
            "Агент 2: copy_opponent_agent\n",
            "Результат: [[0, 0]]\n",
            "\n",
            "Агент 1: scissors_agent\n",
            "Агент 2: random_agent\n",
            "Результат: [[0, 0]]\n",
            "\n",
            "Агент 1: scissors_agent\n",
            "Агент 2: classic_cycle_agent\n",
            "Результат: [[97.0, -97.0]]\n",
            "\n",
            "Агент 1: scissors_agent\n",
            "Агент 2: cycle_agent\n",
            "Результат: [[-99.0, 99.0]]\n",
            "\n",
            "Агент 1: scissors_agent\n",
            "Агент 2: beat_last_agent\n",
            "Результат: [[-97.0, 97.0]]\n",
            "\n",
            "Агент 1: scissors_agent\n",
            "Агент 2: beat_classic_cycle_agent\n",
            "Результат: [[-97.0, 97.0]]\n",
            "\n",
            "Агент 1: scissors_agent\n",
            "Агент 2: mixed_choice_agent_paper\n",
            "Результат: [[0, 0]]\n",
            "\n",
            "Агент 1: scissors_agent\n",
            "Агент 2: mixed_choice_agent_rock\n",
            "Результат: [[0, 0]]\n",
            "\n",
            "Агент 1: scissors_agent\n",
            "Агент 2: mixed_choice_agent_scissors\n",
            "Результат: [[25.0, -25.0]]\n",
            "\n",
            "Агент 1: scissors_agent\n",
            "Агент 2: statistical_agent\n",
            "Результат: [[-98.0, 98.0]]\n",
            "\n",
            "Агент 1: scissors_agent\n",
            "Агент 2: repeat2_classic_cycle_agent\n",
            "Результат: [[32.0, -32.0]]\n",
            "\n",
            "Агент 1: copy_opponent_agent\n",
            "Агент 2: random_agent\n",
            "Результат: [[0, 0]]\n",
            "\n",
            "Агент 1: copy_opponent_agent\n",
            "Агент 2: classic_cycle_agent\n",
            "Результат: [[50.0, -50.0]]\n",
            "\n",
            "Агент 1: copy_opponent_agent\n",
            "Агент 2: cycle_agent\n",
            "Результат: [[99.0, -99.0]]\n",
            "\n",
            "Агент 1: copy_opponent_agent\n",
            "Агент 2: beat_last_agent\n",
            "Результат: [[99.0, -99.0]]\n",
            "\n",
            "Агент 1: copy_opponent_agent\n",
            "Агент 2: beat_classic_cycle_agent\n",
            "Результат: [[-50.0, 50.0]]\n",
            "\n",
            "Агент 1: copy_opponent_agent\n",
            "Агент 2: mixed_choice_agent_paper\n",
            "Результат: [[0, 0]]\n",
            "\n",
            "Агент 1: copy_opponent_agent\n",
            "Агент 2: mixed_choice_agent_rock\n",
            "Результат: [[0, 0]]\n",
            "\n",
            "Агент 1: copy_opponent_agent\n",
            "Агент 2: mixed_choice_agent_scissors\n",
            "Результат: [[0, 0]]\n",
            "\n",
            "Агент 1: copy_opponent_agent\n",
            "Агент 2: statistical_agent\n",
            "Результат: [[-21.0, 21.0]]\n",
            "\n",
            "Агент 1: copy_opponent_agent\n",
            "Агент 2: repeat2_classic_cycle_agent\n",
            "Результат: [[0, 0]]\n",
            "\n",
            "Агент 1: random_agent\n",
            "Агент 2: classic_cycle_agent\n",
            "Результат: [[0, 0]]\n",
            "\n",
            "Агент 1: random_agent\n",
            "Агент 2: cycle_agent\n",
            "Результат: [[0, 0]]\n",
            "\n",
            "Агент 1: random_agent\n",
            "Агент 2: beat_last_agent\n",
            "Результат: [[0, 0]]\n",
            "\n",
            "Агент 1: random_agent\n",
            "Агент 2: beat_classic_cycle_agent\n",
            "Результат: [[0, 0]]\n",
            "\n",
            "Агент 1: random_agent\n",
            "Агент 2: mixed_choice_agent_paper\n",
            "Результат: [[0, 0]]\n",
            "\n",
            "Агент 1: random_agent\n",
            "Агент 2: mixed_choice_agent_rock\n",
            "Результат: [[0, 0]]\n",
            "\n",
            "Агент 1: random_agent\n",
            "Агент 2: mixed_choice_agent_scissors\n",
            "Результат: [[0, 0]]\n",
            "\n",
            "Агент 1: random_agent\n",
            "Агент 2: statistical_agent\n",
            "Результат: [[0, 0]]\n",
            "\n",
            "Агент 1: random_agent\n",
            "Агент 2: repeat2_classic_cycle_agent\n",
            "Результат: [[0, 0]]\n",
            "\n",
            "Агент 1: classic_cycle_agent\n",
            "Агент 2: cycle_agent\n",
            "Результат: [[49.0, -49.0]]\n",
            "\n",
            "Агент 1: classic_cycle_agent\n",
            "Агент 2: beat_last_agent\n",
            "Результат: [[49.0, -49.0]]\n",
            "\n",
            "Агент 1: classic_cycle_agent\n",
            "Агент 2: beat_classic_cycle_agent\n",
            "Результат: [[50.0, -50.0]]\n",
            "\n",
            "Агент 1: classic_cycle_agent\n",
            "Агент 2: mixed_choice_agent_paper\n",
            "Результат: [[0, 0]]\n",
            "\n",
            "Агент 1: classic_cycle_agent\n",
            "Агент 2: mixed_choice_agent_rock\n",
            "Результат: [[0, 0]]\n",
            "\n",
            "Агент 1: classic_cycle_agent\n",
            "Агент 2: mixed_choice_agent_scissors\n",
            "Результат: [[0, 0]]\n",
            "\n",
            "Агент 1: classic_cycle_agent\n",
            "Агент 2: statistical_agent\n",
            "Результат: [[-96.0, 96.0]]\n",
            "\n",
            "Агент 1: classic_cycle_agent\n",
            "Агент 2: repeat2_classic_cycle_agent\n",
            "Результат: [[-33.0, 33.0]]\n",
            "\n",
            "Агент 1: cycle_agent\n",
            "Агент 2: beat_last_agent\n",
            "Результат: [[0, 0]]\n",
            "\n",
            "Агент 1: cycle_agent\n",
            "Агент 2: beat_classic_cycle_agent\n",
            "Результат: [[0, 0]]\n",
            "\n",
            "Агент 1: cycle_agent\n",
            "Агент 2: mixed_choice_agent_paper\n",
            "Результат: [[0, 0]]\n",
            "\n",
            "Агент 1: cycle_agent\n",
            "Агент 2: mixed_choice_agent_rock\n",
            "Результат: [[0, 0]]\n",
            "\n",
            "Агент 1: cycle_agent\n",
            "Агент 2: mixed_choice_agent_scissors\n",
            "Результат: [[0, 0]]\n",
            "\n",
            "Агент 1: cycle_agent\n",
            "Агент 2: statistical_agent\n",
            "Результат: [[57.0, -57.0]]\n",
            "\n",
            "Агент 1: cycle_agent\n",
            "Агент 2: repeat2_classic_cycle_agent\n",
            "Результат: [[32.0, -32.0]]\n",
            "\n",
            "Агент 1: beat_last_agent\n",
            "Агент 2: beat_classic_cycle_agent\n",
            "Результат: [[0, 0]]\n",
            "\n",
            "Агент 1: beat_last_agent\n",
            "Агент 2: mixed_choice_agent_paper\n",
            "Результат: [[0, 0]]\n",
            "\n",
            "Агент 1: beat_last_agent\n",
            "Агент 2: mixed_choice_agent_rock\n",
            "Результат: [[0, 0]]\n",
            "\n",
            "Агент 1: beat_last_agent\n",
            "Агент 2: mixed_choice_agent_scissors\n",
            "Результат: [[0, 0]]\n",
            "\n",
            "Агент 1: beat_last_agent\n",
            "Агент 2: statistical_agent\n",
            "Результат: [[57.0, -57.0]]\n",
            "\n",
            "Агент 1: beat_last_agent\n",
            "Агент 2: repeat2_classic_cycle_agent\n",
            "Результат: [[65.0, -65.0]]\n",
            "\n",
            "Агент 1: beat_classic_cycle_agent\n",
            "Агент 2: mixed_choice_agent_paper\n",
            "Результат: [[0, 0]]\n",
            "\n",
            "Агент 1: beat_classic_cycle_agent\n",
            "Агент 2: mixed_choice_agent_rock\n",
            "Результат: [[0, 0]]\n",
            "\n",
            "Агент 1: beat_classic_cycle_agent\n",
            "Агент 2: mixed_choice_agent_scissors\n",
            "Результат: [[0, 0]]\n",
            "\n",
            "Агент 1: beat_classic_cycle_agent\n",
            "Агент 2: statistical_agent\n",
            "Результат: [[49.0, -49.0]]\n",
            "\n",
            "Агент 1: beat_classic_cycle_agent\n",
            "Агент 2: repeat2_classic_cycle_agent\n",
            "Результат: [[65.0, -65.0]]\n",
            "\n",
            "Агент 1: mixed_choice_agent_paper\n",
            "Агент 2: mixed_choice_agent_rock\n",
            "Результат: [[0, 0]]\n",
            "\n",
            "Агент 1: mixed_choice_agent_paper\n",
            "Агент 2: mixed_choice_agent_scissors\n",
            "Результат: [[0, 0]]\n",
            "\n",
            "Агент 1: mixed_choice_agent_paper\n",
            "Агент 2: statistical_agent\n",
            "Результат: [[0, 0]]\n",
            "\n",
            "Агент 1: mixed_choice_agent_paper\n",
            "Агент 2: repeat2_classic_cycle_agent\n",
            "Результат: [[0, 0]]\n",
            "\n",
            "Агент 1: mixed_choice_agent_rock\n",
            "Агент 2: mixed_choice_agent_scissors\n",
            "Результат: [[0, 0]]\n",
            "\n",
            "Агент 1: mixed_choice_agent_rock\n",
            "Агент 2: statistical_agent\n",
            "Результат: [[-22.0, 22.0]]\n",
            "\n",
            "Агент 1: mixed_choice_agent_rock\n",
            "Агент 2: repeat2_classic_cycle_agent\n",
            "Результат: [[0, 0]]\n",
            "\n",
            "Агент 1: mixed_choice_agent_scissors\n",
            "Агент 2: statistical_agent\n",
            "Результат: [[0, 0]]\n",
            "\n",
            "Агент 1: mixed_choice_agent_scissors\n",
            "Агент 2: repeat2_classic_cycle_agent\n",
            "Результат: [[0, 0]]\n",
            "\n",
            "Агент 1: statistical_agent\n",
            "Агент 2: repeat2_classic_cycle_agent\n",
            "Результат: [[0, 0]]\n",
            "\n",
            "                        Агент 1                      Агент 2        Результат\n",
            "0                    rock_agent                  paper_agent  [[-99.0, 99.0]]\n",
            "1                    rock_agent               scissors_agent  [[99.0, -99.0]]\n",
            "2                    rock_agent          copy_opponent_agent         [[0, 0]]\n",
            "3                    rock_agent                 random_agent         [[0, 0]]\n",
            "4                    rock_agent          classic_cycle_agent  [[98.0, -98.0]]\n",
            "..                          ...                          ...              ...\n",
            "86      mixed_choice_agent_rock            statistical_agent  [[-22.0, 22.0]]\n",
            "87      mixed_choice_agent_rock  repeat2_classic_cycle_agent         [[0, 0]]\n",
            "88  mixed_choice_agent_scissors            statistical_agent         [[0, 0]]\n",
            "89  mixed_choice_agent_scissors  repeat2_classic_cycle_agent         [[0, 0]]\n",
            "90            statistical_agent  repeat2_classic_cycle_agent         [[0, 0]]\n",
            "\n",
            "[91 rows x 3 columns]\n"
          ]
        }
      ]
    },
    {
      "cell_type": "code",
      "source": [
        "# Подсчет результатов\n",
        "agent_scores = defaultdict(lambda: {\"wins\": 0, \"losses\": 0, \"draws\": 0})\n",
        "\n",
        "for result in results:\n",
        "    agent1_name = result[0]\n",
        "    agent2_name = result[1]\n",
        "    match_result = result[2][0]\n",
        "\n",
        "    # Проверка на корректность результатов\n",
        "    if match_result[0] is None or match_result[1] is None:\n",
        "        print(f\"Ошибка в бое {agent1_name} и {agent2_name}: Один из агентов вернул None.\")\n",
        "        continue\n",
        "\n",
        "    if match_result[0] > match_result[1]:\n",
        "        agent_scores[agent1_name][\"wins\"] += 1\n",
        "        agent_scores[agent2_name][\"losses\"] += 1\n",
        "    elif match_result[0] < match_result[1]:\n",
        "        agent_scores[agent1_name][\"losses\"] += 1\n",
        "        agent_scores[agent2_name][\"wins\"] += 1\n",
        "    else:\n",
        "        agent_scores[agent1_name][\"draws\"] += 1\n",
        "        agent_scores[agent2_name][\"draws\"] += 1"
      ],
      "metadata": {
        "id": "YkB_eRpDKSgk"
      },
      "execution_count": 48,
      "outputs": []
    },
    {
      "cell_type": "markdown",
      "source": [
        "Выводим результаты в таблице"
      ],
      "metadata": {
        "id": "HZDx7RjnIw1m"
      }
    },
    {
      "cell_type": "code",
      "source": [
        "data = []\n",
        "for agent, scores in agent_scores.items():\n",
        "    data.append({'Агент': agent, 'Победы': scores['wins'], 'Поражения': scores['losses'], 'Ничьи': scores['draws']})\n",
        "\n",
        "df = pd.DataFrame(data)\n",
        "print(df)"
      ],
      "metadata": {
        "colab": {
          "base_uri": "https://localhost:8080/"
        },
        "id": "GS5SJ0CwFhYJ",
        "outputId": "54980de4-a127-4027-cd49-958cd7ccca13"
      },
      "execution_count": 49,
      "outputs": [
        {
          "output_type": "stream",
          "name": "stdout",
          "text": [
            "                          Агент  Победы  Поражения  Ничьи\n",
            "0                    rock_agent       3          6      4\n",
            "1                   paper_agent       4          6      3\n",
            "2                scissors_agent       4          5      4\n",
            "3           copy_opponent_agent       3          2      8\n",
            "4                  random_agent       0          0     13\n",
            "5           classic_cycle_agent       3          6      4\n",
            "6                   cycle_agent       5          2      6\n",
            "7               beat_last_agent       5          2      6\n",
            "8      beat_classic_cycle_agent       6          1      6\n",
            "9      mixed_choice_agent_paper       1          0     12\n",
            "10      mixed_choice_agent_rock       0          2     11\n",
            "11  mixed_choice_agent_scissors       1          1     11\n",
            "12            statistical_agent       6          3      4\n",
            "13  repeat2_classic_cycle_agent       1          6      6\n"
          ]
        }
      ]
    },
    {
      "cell_type": "markdown",
      "source": [
        "Стратегия statistical_agent показывает себя лучше всех"
      ],
      "metadata": {
        "id": "rrwPkcaMIz_n"
      }
    }
  ],
  "metadata": {
    "colab": {
      "provenance": []
    },
    "kernelspec": {
      "display_name": "Python 3",
      "name": "python3"
    },
    "language_info": {
      "name": "python"
    }
  },
  "nbformat": 4,
  "nbformat_minor": 0
}
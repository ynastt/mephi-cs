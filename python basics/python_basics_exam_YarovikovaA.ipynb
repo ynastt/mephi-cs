{
  "nbformat": 4,
  "nbformat_minor": 0,
  "metadata": {
    "colab": {
      "provenance": []
    },
    "kernelspec": {
      "name": "python3",
      "display_name": "Python 3"
    },
    "language_info": {
      "name": "python"
    }
  },
  "cells": [
    {
      "cell_type": "markdown",
      "source": [
        "## Задание 1  \n",
        "\n",
        "**Обратный порядок слов в блоках текста**  \n",
        "\n",
        "Дан текстовый файл, каждое предложение которого занимает одну строку. Напишите программу, которая разделяет текст на блоки — каждый блок состоит из нескольких предложений. Затем переворачивает порядок слов только внутри каждого предложения, не меняя порядок самих предложений в блоке."
      ],
      "metadata": {
        "id": "5j3DqAoBJIEJ"
      }
    },
    {
      "cell_type": "markdown",
      "source": [
        "Считаем, что в тексте нет пустых строк.  \n",
        "\n",
        "Если количество предложений в тексте не разбивается поровну на блоки, то если в последнем блоке будет остаток меньше, чем заданное количество предложений в блоке - это номрально.  \n",
        "Например, в тексте 5 предложений, в блоке по 2 предложения, тогда получим три блока: 2+2+1. В последнем блоке останется одно предложение.\n"
      ],
      "metadata": {
        "id": "RBxhq60ioiTn"
      }
    },
    {
      "cell_type": "code",
      "source": [
        "def reverse_sentence(sentence):\n",
        "    \"\"\"Функция для переворота порядка слов в предложении\"\"\"\n",
        "    words = sentence.split()\n",
        "    return ' '.join(reversed(words))\n",
        "\n",
        "def edit_text(file, n_sentences_in_block):\n",
        "    \"\"\"Функция разделяет текст на блоки, затем переворачивает порядок слов внутри предложений, не меняя их порядок в блоке\n",
        "    file - входной текстовый файл\n",
        "    n_sentences_in_block - параметр, указывающий количество предложений в каждом блоке\n",
        "    \"\"\"\n",
        "    with open(file, 'r', encoding='utf-8') as input_file:\n",
        "        text = input_file.readlines()\n",
        "\n",
        "    # если заданное количество предложений в блоке больше, чем количество\n",
        "    # предложений в тексте, то выводим ошибку и просим пользователя задать\n",
        "    # корректный параметр n_sentences_in_block\n",
        "    if n_sentences_in_block > len(text):\n",
        "        print(\"ОШИБКА! Заданное количество предложений в блоке больше количества предложений в тексте.\\nЗадайте корректное значение параметра количества предложений в блоке.\")\n",
        "        return\n",
        "\n",
        "    blocks = []\n",
        "    current_block = []\n",
        "\n",
        "    # Идем построчно по тексту\n",
        "    for line in text:\n",
        "        line = line.strip()\n",
        "        # добавляем перевернутую строку в блок\n",
        "        current_block.append(reverse_sentence(line))\n",
        "        # Если достигнуто максимальное количество предложений в блоке\n",
        "        # сохраняем блок и переходим к следующему\n",
        "        if len(current_block) == n_sentences_in_block:\n",
        "            blocks.append(current_block)\n",
        "            current_block = []\n",
        "\n",
        "    # Добавляем последний блок, если он не пустой\n",
        "    if current_block:\n",
        "        blocks.append(current_block)\n",
        "\n",
        "    # Записываем результат\n",
        "    for block in blocks:\n",
        "        for sentence in block:\n",
        "            print(sentence, \" \")\n",
        "        print()  # Пустая строка между блоками"
      ],
      "metadata": {
        "id": "kw_advUmnjz9"
      },
      "execution_count": 33,
      "outputs": []
    },
    {
      "cell_type": "code",
      "source": [
        "# тест 1\n",
        "# текстовый файл in.txt, каждое предложение которого занимает одну строку\n",
        "with open('in.txt', 'w', encoding='utf-8') as f:\n",
        "    lines = [\"Привет как дела\", \"На улице идет дождь\", \"Я люблю программирование\"]\n",
        "    for line in lines:\n",
        "        f.write(line + '\\n')\n",
        "\n",
        "# Количество предложений в блоке\n",
        "sentences_per_block = 2\n",
        "\n",
        "edit_text('in.txt', sentences_per_block)"
      ],
      "metadata": {
        "colab": {
          "base_uri": "https://localhost:8080/"
        },
        "id": "Ib4DQNvChelm",
        "outputId": "643ee705-1849-441b-cca3-53ff1b5c5ee9"
      },
      "execution_count": 34,
      "outputs": [
        {
          "output_type": "stream",
          "name": "stdout",
          "text": [
            "дела как Привет  \n",
            "дождь идет улице На  \n",
            "\n",
            "программирование люблю Я  \n",
            "\n"
          ]
        }
      ]
    },
    {
      "cell_type": "code",
      "source": [
        "# тест 2\n",
        "# текстовый файл in.txt, каждое предложение которого занимает одну строку\n",
        "with open('in.txt', 'w', encoding='utf-8') as f:\n",
        "    lines = [\"Привет как дела\", \"На улице идет дождь\", \"Я люблю программирование\"]\n",
        "    for line in lines:\n",
        "        f.write(line + '\\n')\n",
        "\n",
        "# Количество предложений в блоке\n",
        "sentences_per_block = 4\n",
        "\n",
        "edit_text('in.txt', sentences_per_block)"
      ],
      "metadata": {
        "colab": {
          "base_uri": "https://localhost:8080/"
        },
        "id": "LEN5QQh1p1tz",
        "outputId": "4acfe567-e00b-4268-ad7c-d45307d86117"
      },
      "execution_count": 35,
      "outputs": [
        {
          "output_type": "stream",
          "name": "stdout",
          "text": [
            "ОШИБКА! Заданное количество предложений в блоке больше количества предложений в тексте.\n",
            "Задайте корректное значение параметра количества предложений в блоке.\n"
          ]
        }
      ]
    },
    {
      "cell_type": "code",
      "source": [
        "# тест 3\n",
        "# текстовый файл in.txt, каждое предложение которого занимает одну строку\n",
        "with open('in.txt', 'w', encoding='utf-8') as f:\n",
        "    lines = [\"Привет как дела\", \"На улице идет дождь\", \"Я люблю программирование\", \"Я люблю спать\"]\n",
        "    for line in lines:\n",
        "        f.write(line + '\\n')\n",
        "\n",
        "# Количество предложений в блоке\n",
        "sentences_per_block = 2\n",
        "\n",
        "edit_text('in.txt', sentences_per_block)"
      ],
      "metadata": {
        "colab": {
          "base_uri": "https://localhost:8080/"
        },
        "id": "CraigULWp6uc",
        "outputId": "0d720b5d-6c39-43d6-b625-271629ef0212"
      },
      "execution_count": 36,
      "outputs": [
        {
          "output_type": "stream",
          "name": "stdout",
          "text": [
            "дела как Привет  \n",
            "дождь идет улице На  \n",
            "\n",
            "программирование люблю Я  \n",
            "спать люблю Я  \n",
            "\n"
          ]
        }
      ]
    },
    {
      "cell_type": "markdown",
      "source": [
        "## Задание 2  \n",
        "\n",
        "Напишите функцию, которая принимает строку и сжимает её определённым образом. Строки содержат произвольные символы, включая пробелы и спецсимволы, и требуют точного учета длины при кодировании. Сжатие строки происходит сериями одинаковых символов в формате *символ + количество*, но только если длина сжатой строки не превышает исходную."
      ],
      "metadata": {
        "id": "xE5QUhb_JQUl"
      }
    },
    {
      "cell_type": "markdown",
      "source": [
        "Заметим, что количество 1 никогда не требется добавлять, т.к. таким образом только увеличивается строка, что нам не нужно по условию"
      ],
      "metadata": {
        "id": "68byJI92wKWH"
      }
    },
    {
      "cell_type": "code",
      "source": [
        "def compress_line(line):\n",
        "    \"\"\"Функция cжимает строку сериями одинаковых символов в формате\n",
        "    символ+количество, если длина сжатой строки не превышает исходную\"\"\"\n",
        "    # Если входная строка пустая\n",
        "    if not line:\n",
        "        return line\n",
        "\n",
        "    compressed = \"\" # сжатая строка\n",
        "    count = 1 # счетчик для одинаковых символов\n",
        "\n",
        "    # Идем посимвольно, увеличиваем счетчик при продвижении по серии одинаковых символов\n",
        "    # Когда встречаем новый символ, добавляем предыдущий символ+количество в строку-результат\n",
        "    for i in range(1, len(line)):\n",
        "        if line[i] == line[i - 1]:\n",
        "            count += 1\n",
        "        else:\n",
        "            compressed += line[i - 1]+(str(count) if count > 1 else '')\n",
        "            count = 1\n",
        "\n",
        "    # Добавляем последний символ + количество\n",
        "    compressed += line[-1]\n",
        "    compressed += (str(count) if count > 1 else '')\n",
        "\n",
        "    # Возвращаем сжатую строку, если она короче исходной\n",
        "    # Ессли нет - исходную\n",
        "    if len(compressed) > len(line):\n",
        "        return line\n",
        "    return compressed"
      ],
      "metadata": {
        "id": "pzx_s1jdupf6"
      },
      "execution_count": 44,
      "outputs": []
    },
    {
      "cell_type": "code",
      "source": [
        "# тест 1\n",
        "# aaabbc → a3b2c\n",
        "compress_line(\"aaabbc\")"
      ],
      "metadata": {
        "colab": {
          "base_uri": "https://localhost:8080/",
          "height": 35
        },
        "id": "orcfB5krqbfX",
        "outputId": "7db0b662-a093-48d4-d420-b577f5107753"
      },
      "execution_count": 45,
      "outputs": [
        {
          "output_type": "execute_result",
          "data": {
            "text/plain": [
              "'a3b2c'"
            ],
            "application/vnd.google.colaboratory.intrinsic+json": {
              "type": "string"
            }
          },
          "metadata": {},
          "execution_count": 45
        }
      ]
    },
    {
      "cell_type": "code",
      "source": [
        "# тест 2\n",
        "# abcd -> abcd\n",
        "compress_line(\"abcd\")"
      ],
      "metadata": {
        "colab": {
          "base_uri": "https://localhost:8080/",
          "height": 35
        },
        "id": "O5LwWjfUqdH8",
        "outputId": "626499e4-90fe-4bc6-adc7-3a3de8584dec"
      },
      "execution_count": 46,
      "outputs": [
        {
          "output_type": "execute_result",
          "data": {
            "text/plain": [
              "'abcd'"
            ],
            "application/vnd.google.colaboratory.intrinsic+json": {
              "type": "string"
            }
          },
          "metadata": {},
          "execution_count": 46
        }
      ]
    },
    {
      "cell_type": "code",
      "source": [
        "# тест 3\n",
        "# aaaa -> a4\n",
        "compress_line(\"aaaa\")"
      ],
      "metadata": {
        "colab": {
          "base_uri": "https://localhost:8080/",
          "height": 35
        },
        "id": "o-m1ML1XqdlH",
        "outputId": "4c9bb805-b956-4e01-e848-9167769b6479"
      },
      "execution_count": 47,
      "outputs": [
        {
          "output_type": "execute_result",
          "data": {
            "text/plain": [
              "'a4'"
            ],
            "application/vnd.google.colaboratory.intrinsic+json": {
              "type": "string"
            }
          },
          "metadata": {},
          "execution_count": 47
        }
      ]
    },
    {
      "cell_type": "code",
      "source": [
        "# тест 4\n",
        "# aab -> a2b (a2b1 это ошибка)\n",
        "compress_line(\"aab\")"
      ],
      "metadata": {
        "colab": {
          "base_uri": "https://localhost:8080/",
          "height": 35
        },
        "id": "dpdI-faWqeE2",
        "outputId": "27c6d2b2-c2c5-40d6-ac5c-fabd9467d384"
      },
      "execution_count": 48,
      "outputs": [
        {
          "output_type": "execute_result",
          "data": {
            "text/plain": [
              "'a2b'"
            ],
            "application/vnd.google.colaboratory.intrinsic+json": {
              "type": "string"
            }
          },
          "metadata": {},
          "execution_count": 48
        }
      ]
    },
    {
      "cell_type": "code",
      "source": [
        "# тест 5\n",
        "# a  b$$% -> a 2b$2%\n",
        "compress_line(\"a  b$$%\")"
      ],
      "metadata": {
        "colab": {
          "base_uri": "https://localhost:8080/",
          "height": 35
        },
        "id": "gHIe4m42wbMX",
        "outputId": "03a434a5-8e5b-4556-ea3e-233b295d9610"
      },
      "execution_count": 53,
      "outputs": [
        {
          "output_type": "execute_result",
          "data": {
            "text/plain": [
              "'a 2b$2%'"
            ],
            "application/vnd.google.colaboratory.intrinsic+json": {
              "type": "string"
            }
          },
          "metadata": {},
          "execution_count": 53
        }
      ]
    },
    {
      "cell_type": "code",
      "source": [
        "# тест 6\n",
        "# ///abcaddddd   ,@@;\"\"22123###4121 -> /3abcad5 3,@2;\"2221241#34121\n",
        "compress_line('///abcaddddd   ,@@;\"\"22123###4121')"
      ],
      "metadata": {
        "colab": {
          "base_uri": "https://localhost:8080/",
          "height": 35
        },
        "id": "GgzTmiCWyo-6",
        "outputId": "85d3d14f-9b1f-4672-e232-b0d5c4270767"
      },
      "execution_count": 58,
      "outputs": [
        {
          "output_type": "execute_result",
          "data": {
            "text/plain": [
              "'/3abcad5 3,@2;\"2221241#34121'"
            ],
            "application/vnd.google.colaboratory.intrinsic+json": {
              "type": "string"
            }
          },
          "metadata": {},
          "execution_count": 58
        }
      ]
    },
    {
      "cell_type": "markdown",
      "source": [],
      "metadata": {
        "id": "Q8fUbVAIJSDG"
      }
    },
    {
      "cell_type": "markdown",
      "source": [
        "## Задание 3  \n",
        "**Хаотичные скобки**  \n",
        "Реализуйте функцию, которая проверяет, правильно ли расставлены скобки в строке (включая круглые, квадратные и фигурные скобки)."
      ],
      "metadata": {
        "id": "BRbAXllrJT1H"
      }
    },
    {
      "cell_type": "markdown",
      "source": [
        "Решаем через стек. Кладем открывающие скобки на стек, когда встречаем закрывающую и получаем пару: открывающая + закрывающая, то снимаем со стека. Если строка с правильно расставленными скобками, то стек в конце строки будет пустым, иначе строка содержит ошибку в расставлении скобок"
      ],
      "metadata": {
        "id": "PotKQpxyzVI3"
      }
    },
    {
      "cell_type": "code",
      "source": [
        "def check_parenthesis(line):\n",
        "    # Словарь с ключами - открывающими скобками и значениями - соответствующими закрывающими скобками\n",
        "    parenthesis = {'(': ')', '[': ']', '{': '}'}\n",
        "    stack = []\n",
        "\n",
        "    # Идем посмивольно по строке\n",
        "    for ch in line:\n",
        "        # Если символ - открывающая скобка, добавляем в стек\n",
        "        if ch in parenthesis.keys():\n",
        "            stack.append(ch)\n",
        "        # Если символ - закрывающая скобка\n",
        "        elif ch in parenthesis.values():\n",
        "            # Ищем соответствующую открывающую скобку в стеке\n",
        "            # Если стек пуст\n",
        "            if not stack:\n",
        "                return \"Неправильно\"\n",
        "            # Если стек не пуст\n",
        "            cur = stack.pop()\n",
        "            if ch != parenthesis[cur]:\n",
        "                return \"Неправильно\"\n",
        "\n",
        "    if len(stack) == 0:\n",
        "        return \"Правильно\"\n",
        "\n",
        "    return \"Неправильно\""
      ],
      "metadata": {
        "id": "NAP3zH-M1qk2"
      },
      "execution_count": 69,
      "outputs": []
    },
    {
      "cell_type": "code",
      "source": [
        "# тест 1\n",
        "# ()-> Правильно\n",
        "check_parenthesis('()')"
      ],
      "metadata": {
        "colab": {
          "base_uri": "https://localhost:8080/",
          "height": 35
        },
        "id": "r0ExMFj3w-fR",
        "outputId": "7d21169a-71a1-4f41-eaae-2297168927fc"
      },
      "execution_count": 70,
      "outputs": [
        {
          "output_type": "execute_result",
          "data": {
            "text/plain": [
              "'Правильно'"
            ],
            "application/vnd.google.colaboratory.intrinsic+json": {
              "type": "string"
            }
          },
          "metadata": {},
          "execution_count": 70
        }
      ]
    },
    {
      "cell_type": "code",
      "source": [
        "# тест 2\n",
        "# )(-> Неправильно\n",
        "check_parenthesis(')(')"
      ],
      "metadata": {
        "colab": {
          "base_uri": "https://localhost:8080/",
          "height": 35
        },
        "id": "CIRXYX7sw-6x",
        "outputId": "9d6ccaec-98a3-4965-e615-1114ac998b6a"
      },
      "execution_count": 71,
      "outputs": [
        {
          "output_type": "execute_result",
          "data": {
            "text/plain": [
              "'Неправильно'"
            ],
            "application/vnd.google.colaboratory.intrinsic+json": {
              "type": "string"
            }
          },
          "metadata": {},
          "execution_count": 71
        }
      ]
    },
    {
      "cell_type": "code",
      "source": [
        "# тест 3\n",
        "# (()())-> Правильно\n",
        "check_parenthesis('(()())')"
      ],
      "metadata": {
        "colab": {
          "base_uri": "https://localhost:8080/",
          "height": 35
        },
        "id": "0-r-jCz_w_JD",
        "outputId": "8ef4d138-da2b-4540-e839-a72be7e376f0"
      },
      "execution_count": 72,
      "outputs": [
        {
          "output_type": "execute_result",
          "data": {
            "text/plain": [
              "'Правильно'"
            ],
            "application/vnd.google.colaboratory.intrinsic+json": {
              "type": "string"
            }
          },
          "metadata": {},
          "execution_count": 72
        }
      ]
    },
    {
      "cell_type": "code",
      "source": [
        "# тест 3\n",
        "# {})-> Неравильно\n",
        "check_parenthesis('{})')"
      ],
      "metadata": {
        "colab": {
          "base_uri": "https://localhost:8080/",
          "height": 35
        },
        "id": "P_HDQhZ3xLFU",
        "outputId": "40480470-5d97-44f1-adf8-eacf851960a0"
      },
      "execution_count": 73,
      "outputs": [
        {
          "output_type": "execute_result",
          "data": {
            "text/plain": [
              "'Неправильно'"
            ],
            "application/vnd.google.colaboratory.intrinsic+json": {
              "type": "string"
            }
          },
          "metadata": {},
          "execution_count": 73
        }
      ]
    },
    {
      "cell_type": "code",
      "source": [
        "# тест 4\n",
        "# [([])({([[{}]])})]{([])}[]-> Правильно\n",
        "check_parenthesis('[([])({([[{}]])})]{([])}[]')"
      ],
      "metadata": {
        "colab": {
          "base_uri": "https://localhost:8080/",
          "height": 35
        },
        "id": "DNyS7Kqf2fqc",
        "outputId": "ff175339-055c-49de-e028-b46173e2257a"
      },
      "execution_count": 80,
      "outputs": [
        {
          "output_type": "execute_result",
          "data": {
            "text/plain": [
              "'Правильно'"
            ],
            "application/vnd.google.colaboratory.intrinsic+json": {
              "type": "string"
            }
          },
          "metadata": {},
          "execution_count": 80
        }
      ]
    },
    {
      "cell_type": "code",
      "source": [
        "# тест 5\n",
        "# {[(])}-> Неравильно\n",
        "check_parenthesis('{[(])}')"
      ],
      "metadata": {
        "colab": {
          "base_uri": "https://localhost:8080/",
          "height": 35
        },
        "id": "89BODmyA2f34",
        "outputId": "ea73b61f-29c6-4a3b-e2d5-9f05d6df4dfd"
      },
      "execution_count": 79,
      "outputs": [
        {
          "output_type": "execute_result",
          "data": {
            "text/plain": [
              "'Неправильно'"
            ],
            "application/vnd.google.colaboratory.intrinsic+json": {
              "type": "string"
            }
          },
          "metadata": {},
          "execution_count": 79
        }
      ]
    },
    {
      "cell_type": "markdown",
      "source": [
        "## Задание 4  \n",
        "\n",
        "**Генератор случайных паролей**  \n",
        "Напишите функцию, которая генерирует пароль заданной длины. В реализации надо учитывать, что:\n",
        "\n",
        "- Пароль должен содержать буквы, цифры и специальные символы.\n",
        "- Длина пароля задается пользователем."
      ],
      "metadata": {
        "id": "AYhR4ED1JSqr"
      }
    },
    {
      "cell_type": "markdown",
      "source": [
        "буквы, цифры и специальные символы импортируем из пакета string"
      ],
      "metadata": {
        "id": "x8i4wq6R5-On"
      }
    },
    {
      "cell_type": "code",
      "source": [
        "import random\n",
        "from string import ascii_letters, digits, punctuation\n",
        "\n",
        "def generate_password(length):\n",
        "    if length < 6:\n",
        "        print(\"Ненадежный пароль! Длина пароля должна быть не менее 6 символов. Придумайте другой.\")\n",
        "        return\n",
        "\n",
        "    # В пароле должно быть хотя бы по одному символу из каждой категории\n",
        "    password = [\n",
        "        random.choice(ascii_letters),\n",
        "        random.choice(digits),\n",
        "        random.choice(punctuation)\n",
        "    ]\n",
        "\n",
        "    # Заполняем оставшуюся длину пароля случайными символами из всех категорий\n",
        "    all_characters = ascii_letters + digits + punctuation\n",
        "    password += random.choices(all_characters, k=length-3)\n",
        "\n",
        "    # Перемешиваем для случайного порядка\n",
        "    random.shuffle(password)\n",
        "\n",
        "    return ''.join(password)\n"
      ],
      "metadata": {
        "id": "fLKg0bAKJS8L"
      },
      "execution_count": 91,
      "outputs": []
    },
    {
      "cell_type": "code",
      "source": [
        "# тест 1\n",
        "n = 5\n",
        "generate_password(n)"
      ],
      "metadata": {
        "colab": {
          "base_uri": "https://localhost:8080/"
        },
        "id": "pwn0Sel15IWF",
        "outputId": "5f728107-2fe7-42e3-c343-ef773999ea4a"
      },
      "execution_count": 92,
      "outputs": [
        {
          "output_type": "stream",
          "name": "stdout",
          "text": [
            "Ненадежный пароль! Длина пароля должна быть не менее 6 символов. Придумайте другой.\n"
          ]
        }
      ]
    },
    {
      "cell_type": "code",
      "source": [
        "# тест 2\n",
        "n = 6\n",
        "generate_password(n)"
      ],
      "metadata": {
        "colab": {
          "base_uri": "https://localhost:8080/",
          "height": 35
        },
        "id": "ewooWhDp5PNH",
        "outputId": "2fbba35d-0976-4016-ddd8-261e45fae80a"
      },
      "execution_count": 93,
      "outputs": [
        {
          "output_type": "execute_result",
          "data": {
            "text/plain": [
              "'9tal.E'"
            ],
            "application/vnd.google.colaboratory.intrinsic+json": {
              "type": "string"
            }
          },
          "metadata": {},
          "execution_count": 93
        }
      ]
    },
    {
      "cell_type": "code",
      "source": [
        "# тест 3\n",
        "n = 14\n",
        "generate_password(n)"
      ],
      "metadata": {
        "colab": {
          "base_uri": "https://localhost:8080/",
          "height": 35
        },
        "id": "CpkHRRpw5Pol",
        "outputId": "c7d06ab8-9e2f-4d16-b540-4445ca78be35"
      },
      "execution_count": 94,
      "outputs": [
        {
          "output_type": "execute_result",
          "data": {
            "text/plain": [
              "'9@+\\'HS5d\"3&%jj'"
            ],
            "application/vnd.google.colaboratory.intrinsic+json": {
              "type": "string"
            }
          },
          "metadata": {},
          "execution_count": 94
        }
      ]
    },
    {
      "cell_type": "markdown",
      "source": [
        "## Задание 5  \n",
        "**Эмуляция работы электронной очереди**  \n",
        "Напишите класс для симуляции работы электронной очереди, например, в банке.\n",
        "\n",
        "- Система должна поддерживать добавление клиентов с указанием их приоритета (например, VIP, обычный)\n",
        "- Выбор клиента для следующей обработки должен учитывать приоритет\n",
        "- Реализуйте отчет для администрации с информацией, сколько времени заняло обслуживание клиентов"
      ],
      "metadata": {
        "id": "-caWZnOhJTKl"
      }
    },
    {
      "cell_type": "code",
      "source": [
        "import time\n",
        "from enum import Enum\n",
        "from collections import deque\n",
        "import random\n",
        "import pandas as pd\n",
        "\n",
        "# Для указания приоритетов\n",
        "class Priority(Enum):\n",
        "    VIP = 1\n",
        "    ORDINARY = 2\n",
        "\n",
        "# Класс клиента\n",
        "class Client:\n",
        "    def __init__(self, name, priority):\n",
        "        self.name = name\n",
        "        self.priority = priority\n",
        "        self.service_time = 0 # время обработки каждого клиента\n",
        "\n",
        "    def __str__(self):\n",
        "        return f\"Клиент {self.name} (Приоритетность: {self.priority})\"\n",
        "\n",
        "# Класс электронной очереди\n",
        "class ElQueue:\n",
        "    def __init__(self):\n",
        "        self.queue = deque()\n",
        "        self.total_service_time = 0 # сколько суммарно времени заняло обслуживание клиентов\n",
        "        self.report_for_administration = [] # отчет для администрации\n",
        "\n",
        "    # добавление клиентов с указанием их приоритета\n",
        "    def add_client(self, client):\n",
        "        if client.priority == Priority.VIP:\n",
        "            self.queue.appendleft(client)  # VIP клиенты идут в начало, тк приоритетность выше\n",
        "        else:\n",
        "            self.queue.append(client)\n",
        "\n",
        "    # Обработка клиента\n",
        "    def serve_client(self):\n",
        "        if not self.queue:\n",
        "            print(\"Очередь пуста\")\n",
        "            return None\n",
        "\n",
        "        # Выбор клиента для следующей обработки учитывает приоритет\n",
        "        client = self.queue.popleft()\n",
        "\n",
        "        start_time = time.time()\n",
        "        # Имитация обслуживания клиента\n",
        "        service_duration = random.randint(1, 5)\n",
        "        time.sleep(service_duration)\n",
        "        end_time = time.time()\n",
        "\n",
        "        client.service_time = end_time - start_time\n",
        "        self.total_service_time += client.service_time\n",
        "\n",
        "        self.report_for_administration.append(\n",
        "            {\n",
        "                \"client\": client.name,\n",
        "                \"priority\": client.priority,\n",
        "                \"service_duration\": client.service_time,\n",
        "            }\n",
        "        )\n",
        "\n",
        "        print(f\"Клиент: {client}. Время обслуживания: {client.service_time:.2f} секунд\")\n",
        "        return client\n",
        "\n",
        "    # формирвоание отчета для администрации с информацией,\n",
        "    # сколько времени заняло обслуживание клиентов\n",
        "    def get_report(self):\n",
        "        # отчет по клиентам в виде таблицы\n",
        "        df = pd.DataFrame(self.report_for_administration)\n",
        "        print()\n",
        "        print(\"Отчёт о времени обслуживания клиентов\")\n",
        "        display(df)\n",
        "        print(f\"\\nОбщее время обслуживания клиентов: {self.total_service_time:.2f} секунд\")"
      ],
      "metadata": {
        "id": "62Pgj8u3v-Sa"
      },
      "execution_count": 153,
      "outputs": []
    },
    {
      "cell_type": "code",
      "source": [
        "# тест\n",
        "queue = ElQueue()\n",
        "queue.add_client(Client(\"Андреева А.С.\", Priority.ORDINARY))\n",
        "queue.add_client(Client(\"Миронов А.А.\", Priority.VIP))\n",
        "queue.add_client(Client(\"Федорова А.С.\", Priority.ORDINARY))\n",
        "queue.add_client(Client(\"Якимов И.М\", Priority.VIP))\n",
        "queue.serve_client()\n",
        "queue.serve_client()\n",
        "queue.serve_client()\n",
        "queue.serve_client()\n",
        "queue.get_report()"
      ],
      "metadata": {
        "colab": {
          "base_uri": "https://localhost:8080/",
          "height": 314
        },
        "id": "6xtKKq2HCK7L",
        "outputId": "728ea4d1-572a-452d-9aa5-737a19f49f18"
      },
      "execution_count": 155,
      "outputs": [
        {
          "output_type": "stream",
          "name": "stdout",
          "text": [
            "Клиент: Клиент Якимов И.М (Приоритетность: Priority.VIP). Время обслуживания: 4.00 секунд\n",
            "Клиент: Клиент Миронов А.А. (Приоритетность: Priority.VIP). Время обслуживания: 3.00 секунд\n",
            "Клиент: Клиент Андреева А.С. (Приоритетность: Priority.ORDINARY). Время обслуживания: 5.00 секунд\n",
            "Клиент: Клиент Федорова А.С. (Приоритетность: Priority.ORDINARY). Время обслуживания: 5.01 секунд\n",
            "\n",
            "Отчёт о времени обслуживания клиентов\n"
          ]
        },
        {
          "output_type": "display_data",
          "data": {
            "text/plain": [
              "          client           priority  service_duration\n",
              "0     Якимов И.М       Priority.VIP          4.004489\n",
              "1   Миронов А.А.       Priority.VIP          3.003183\n",
              "2  Андреева А.С.  Priority.ORDINARY          5.002485\n",
              "3  Федорова А.С.  Priority.ORDINARY          5.005152"
            ],
            "text/html": [
              "\n",
              "  <div id=\"df-0b9a581f-fd2d-4656-8cd5-3113b9e5211b\" class=\"colab-df-container\">\n",
              "    <div>\n",
              "<style scoped>\n",
              "    .dataframe tbody tr th:only-of-type {\n",
              "        vertical-align: middle;\n",
              "    }\n",
              "\n",
              "    .dataframe tbody tr th {\n",
              "        vertical-align: top;\n",
              "    }\n",
              "\n",
              "    .dataframe thead th {\n",
              "        text-align: right;\n",
              "    }\n",
              "</style>\n",
              "<table border=\"1\" class=\"dataframe\">\n",
              "  <thead>\n",
              "    <tr style=\"text-align: right;\">\n",
              "      <th></th>\n",
              "      <th>client</th>\n",
              "      <th>priority</th>\n",
              "      <th>service_duration</th>\n",
              "    </tr>\n",
              "  </thead>\n",
              "  <tbody>\n",
              "    <tr>\n",
              "      <th>0</th>\n",
              "      <td>Якимов И.М</td>\n",
              "      <td>Priority.VIP</td>\n",
              "      <td>4.004489</td>\n",
              "    </tr>\n",
              "    <tr>\n",
              "      <th>1</th>\n",
              "      <td>Миронов А.А.</td>\n",
              "      <td>Priority.VIP</td>\n",
              "      <td>3.003183</td>\n",
              "    </tr>\n",
              "    <tr>\n",
              "      <th>2</th>\n",
              "      <td>Андреева А.С.</td>\n",
              "      <td>Priority.ORDINARY</td>\n",
              "      <td>5.002485</td>\n",
              "    </tr>\n",
              "    <tr>\n",
              "      <th>3</th>\n",
              "      <td>Федорова А.С.</td>\n",
              "      <td>Priority.ORDINARY</td>\n",
              "      <td>5.005152</td>\n",
              "    </tr>\n",
              "  </tbody>\n",
              "</table>\n",
              "</div>\n",
              "    <div class=\"colab-df-buttons\">\n",
              "\n",
              "  <div class=\"colab-df-container\">\n",
              "    <button class=\"colab-df-convert\" onclick=\"convertToInteractive('df-0b9a581f-fd2d-4656-8cd5-3113b9e5211b')\"\n",
              "            title=\"Convert this dataframe to an interactive table.\"\n",
              "            style=\"display:none;\">\n",
              "\n",
              "  <svg xmlns=\"http://www.w3.org/2000/svg\" height=\"24px\" viewBox=\"0 -960 960 960\">\n",
              "    <path d=\"M120-120v-720h720v720H120Zm60-500h600v-160H180v160Zm220 220h160v-160H400v160Zm0 220h160v-160H400v160ZM180-400h160v-160H180v160Zm440 0h160v-160H620v160ZM180-180h160v-160H180v160Zm440 0h160v-160H620v160Z\"/>\n",
              "  </svg>\n",
              "    </button>\n",
              "\n",
              "  <style>\n",
              "    .colab-df-container {\n",
              "      display:flex;\n",
              "      gap: 12px;\n",
              "    }\n",
              "\n",
              "    .colab-df-convert {\n",
              "      background-color: #E8F0FE;\n",
              "      border: none;\n",
              "      border-radius: 50%;\n",
              "      cursor: pointer;\n",
              "      display: none;\n",
              "      fill: #1967D2;\n",
              "      height: 32px;\n",
              "      padding: 0 0 0 0;\n",
              "      width: 32px;\n",
              "    }\n",
              "\n",
              "    .colab-df-convert:hover {\n",
              "      background-color: #E2EBFA;\n",
              "      box-shadow: 0px 1px 2px rgba(60, 64, 67, 0.3), 0px 1px 3px 1px rgba(60, 64, 67, 0.15);\n",
              "      fill: #174EA6;\n",
              "    }\n",
              "\n",
              "    .colab-df-buttons div {\n",
              "      margin-bottom: 4px;\n",
              "    }\n",
              "\n",
              "    [theme=dark] .colab-df-convert {\n",
              "      background-color: #3B4455;\n",
              "      fill: #D2E3FC;\n",
              "    }\n",
              "\n",
              "    [theme=dark] .colab-df-convert:hover {\n",
              "      background-color: #434B5C;\n",
              "      box-shadow: 0px 1px 3px 1px rgba(0, 0, 0, 0.15);\n",
              "      filter: drop-shadow(0px 1px 2px rgba(0, 0, 0, 0.3));\n",
              "      fill: #FFFFFF;\n",
              "    }\n",
              "  </style>\n",
              "\n",
              "    <script>\n",
              "      const buttonEl =\n",
              "        document.querySelector('#df-0b9a581f-fd2d-4656-8cd5-3113b9e5211b button.colab-df-convert');\n",
              "      buttonEl.style.display =\n",
              "        google.colab.kernel.accessAllowed ? 'block' : 'none';\n",
              "\n",
              "      async function convertToInteractive(key) {\n",
              "        const element = document.querySelector('#df-0b9a581f-fd2d-4656-8cd5-3113b9e5211b');\n",
              "        const dataTable =\n",
              "          await google.colab.kernel.invokeFunction('convertToInteractive',\n",
              "                                                    [key], {});\n",
              "        if (!dataTable) return;\n",
              "\n",
              "        const docLinkHtml = 'Like what you see? Visit the ' +\n",
              "          '<a target=\"_blank\" href=https://colab.research.google.com/notebooks/data_table.ipynb>data table notebook</a>'\n",
              "          + ' to learn more about interactive tables.';\n",
              "        element.innerHTML = '';\n",
              "        dataTable['output_type'] = 'display_data';\n",
              "        await google.colab.output.renderOutput(dataTable, element);\n",
              "        const docLink = document.createElement('div');\n",
              "        docLink.innerHTML = docLinkHtml;\n",
              "        element.appendChild(docLink);\n",
              "      }\n",
              "    </script>\n",
              "  </div>\n",
              "\n",
              "\n",
              "<div id=\"df-6674f4d7-ee9b-46ca-9d52-b64d1ea4a4af\">\n",
              "  <button class=\"colab-df-quickchart\" onclick=\"quickchart('df-6674f4d7-ee9b-46ca-9d52-b64d1ea4a4af')\"\n",
              "            title=\"Suggest charts\"\n",
              "            style=\"display:none;\">\n",
              "\n",
              "<svg xmlns=\"http://www.w3.org/2000/svg\" height=\"24px\"viewBox=\"0 0 24 24\"\n",
              "     width=\"24px\">\n",
              "    <g>\n",
              "        <path d=\"M19 3H5c-1.1 0-2 .9-2 2v14c0 1.1.9 2 2 2h14c1.1 0 2-.9 2-2V5c0-1.1-.9-2-2-2zM9 17H7v-7h2v7zm4 0h-2V7h2v10zm4 0h-2v-4h2v4z\"/>\n",
              "    </g>\n",
              "</svg>\n",
              "  </button>\n",
              "\n",
              "<style>\n",
              "  .colab-df-quickchart {\n",
              "      --bg-color: #E8F0FE;\n",
              "      --fill-color: #1967D2;\n",
              "      --hover-bg-color: #E2EBFA;\n",
              "      --hover-fill-color: #174EA6;\n",
              "      --disabled-fill-color: #AAA;\n",
              "      --disabled-bg-color: #DDD;\n",
              "  }\n",
              "\n",
              "  [theme=dark] .colab-df-quickchart {\n",
              "      --bg-color: #3B4455;\n",
              "      --fill-color: #D2E3FC;\n",
              "      --hover-bg-color: #434B5C;\n",
              "      --hover-fill-color: #FFFFFF;\n",
              "      --disabled-bg-color: #3B4455;\n",
              "      --disabled-fill-color: #666;\n",
              "  }\n",
              "\n",
              "  .colab-df-quickchart {\n",
              "    background-color: var(--bg-color);\n",
              "    border: none;\n",
              "    border-radius: 50%;\n",
              "    cursor: pointer;\n",
              "    display: none;\n",
              "    fill: var(--fill-color);\n",
              "    height: 32px;\n",
              "    padding: 0;\n",
              "    width: 32px;\n",
              "  }\n",
              "\n",
              "  .colab-df-quickchart:hover {\n",
              "    background-color: var(--hover-bg-color);\n",
              "    box-shadow: 0 1px 2px rgba(60, 64, 67, 0.3), 0 1px 3px 1px rgba(60, 64, 67, 0.15);\n",
              "    fill: var(--button-hover-fill-color);\n",
              "  }\n",
              "\n",
              "  .colab-df-quickchart-complete:disabled,\n",
              "  .colab-df-quickchart-complete:disabled:hover {\n",
              "    background-color: var(--disabled-bg-color);\n",
              "    fill: var(--disabled-fill-color);\n",
              "    box-shadow: none;\n",
              "  }\n",
              "\n",
              "  .colab-df-spinner {\n",
              "    border: 2px solid var(--fill-color);\n",
              "    border-color: transparent;\n",
              "    border-bottom-color: var(--fill-color);\n",
              "    animation:\n",
              "      spin 1s steps(1) infinite;\n",
              "  }\n",
              "\n",
              "  @keyframes spin {\n",
              "    0% {\n",
              "      border-color: transparent;\n",
              "      border-bottom-color: var(--fill-color);\n",
              "      border-left-color: var(--fill-color);\n",
              "    }\n",
              "    20% {\n",
              "      border-color: transparent;\n",
              "      border-left-color: var(--fill-color);\n",
              "      border-top-color: var(--fill-color);\n",
              "    }\n",
              "    30% {\n",
              "      border-color: transparent;\n",
              "      border-left-color: var(--fill-color);\n",
              "      border-top-color: var(--fill-color);\n",
              "      border-right-color: var(--fill-color);\n",
              "    }\n",
              "    40% {\n",
              "      border-color: transparent;\n",
              "      border-right-color: var(--fill-color);\n",
              "      border-top-color: var(--fill-color);\n",
              "    }\n",
              "    60% {\n",
              "      border-color: transparent;\n",
              "      border-right-color: var(--fill-color);\n",
              "    }\n",
              "    80% {\n",
              "      border-color: transparent;\n",
              "      border-right-color: var(--fill-color);\n",
              "      border-bottom-color: var(--fill-color);\n",
              "    }\n",
              "    90% {\n",
              "      border-color: transparent;\n",
              "      border-bottom-color: var(--fill-color);\n",
              "    }\n",
              "  }\n",
              "</style>\n",
              "\n",
              "  <script>\n",
              "    async function quickchart(key) {\n",
              "      const quickchartButtonEl =\n",
              "        document.querySelector('#' + key + ' button');\n",
              "      quickchartButtonEl.disabled = true;  // To prevent multiple clicks.\n",
              "      quickchartButtonEl.classList.add('colab-df-spinner');\n",
              "      try {\n",
              "        const charts = await google.colab.kernel.invokeFunction(\n",
              "            'suggestCharts', [key], {});\n",
              "      } catch (error) {\n",
              "        console.error('Error during call to suggestCharts:', error);\n",
              "      }\n",
              "      quickchartButtonEl.classList.remove('colab-df-spinner');\n",
              "      quickchartButtonEl.classList.add('colab-df-quickchart-complete');\n",
              "    }\n",
              "    (() => {\n",
              "      let quickchartButtonEl =\n",
              "        document.querySelector('#df-6674f4d7-ee9b-46ca-9d52-b64d1ea4a4af button');\n",
              "      quickchartButtonEl.style.display =\n",
              "        google.colab.kernel.accessAllowed ? 'block' : 'none';\n",
              "    })();\n",
              "  </script>\n",
              "</div>\n",
              "    </div>\n",
              "  </div>\n"
            ],
            "application/vnd.google.colaboratory.intrinsic+json": {
              "type": "dataframe",
              "summary": "{\n  \"name\": \"queue\",\n  \"rows\": 4,\n  \"fields\": [\n    {\n      \"column\": \"client\",\n      \"properties\": {\n        \"dtype\": \"string\",\n        \"num_unique_values\": 4,\n        \"samples\": [\n          \"\\u041c\\u0438\\u0440\\u043e\\u043d\\u043e\\u0432 \\u0410.\\u0410.\",\n          \"\\u0424\\u0435\\u0434\\u043e\\u0440\\u043e\\u0432\\u0430 \\u0410.\\u0421.\",\n          \"\\u042f\\u043a\\u0438\\u043c\\u043e\\u0432 \\u0418.\\u041c\"\n        ],\n        \"semantic_type\": \"\",\n        \"description\": \"\"\n      }\n    },\n    {\n      \"column\": \"priority\",\n      \"properties\": {\n        \"dtype\": \"string\",\n        \"num_unique_values\": 2,\n        \"samples\": [\n          \"Priority.ORDINARY\",\n          \"Priority.VIP\"\n        ],\n        \"semantic_type\": \"\",\n        \"description\": \"\"\n      }\n    },\n    {\n      \"column\": \"service_duration\",\n      \"properties\": {\n        \"dtype\": \"number\",\n        \"std\": 0.9576459504906008,\n        \"min\": 3.003182888031006,\n        \"max\": 5.005151748657227,\n        \"num_unique_values\": 4,\n        \"samples\": [\n          3.003182888031006,\n          5.005151748657227\n        ],\n        \"semantic_type\": \"\",\n        \"description\": \"\"\n      }\n    }\n  ]\n}"
            }
          },
          "metadata": {}
        },
        {
          "output_type": "stream",
          "name": "stdout",
          "text": [
            "\n",
            "Общее время обслуживания клиентов: 17.02 секунд\n"
          ]
        }
      ]
    },
    {
      "cell_type": "markdown",
      "source": [
        "## Задание 6\n",
        "**Проверка на «почти палиндром»**  \n",
        "Напишите программу, которая проверяет, является ли строка палиндромом или «почти палиндромом». «Почти палиндром» означает, что можно удалить одну букву, чтобы строка стала палиндромом."
      ],
      "metadata": {
        "id": "jtI8x3d4JYC_"
      }
    },
    {
      "cell_type": "code",
      "source": [
        "# Функция проверяет является ли палиндромом\n",
        "def check_palindrome(line):\n",
        "     return line == line[::-1]\n",
        "\n",
        "def check_almost_palindrome(line):\n",
        "    \"\"\"Функция-проверка на «почти палиндром»\"\"\"\n",
        "    # Убираем проблеы и приводим к нижнему регистру все буквы\n",
        "    line = ''.join(line.lower().split())\n",
        "    # Проверка на палиндром\n",
        "    if check_palindrome(line):\n",
        "        return \"Палиндром\"\n",
        "    # Проверка на почти палиндром\n",
        "    for i in range(len(line)):\n",
        "        # в почти палиндроме можно удалить одну букву (на i-й позиции) и получить палиндром\n",
        "        line_without_letter = line[:i] + line[i+1:]\n",
        "        if check_palindrome(line_without_letter):\n",
        "            return \"Почти палиндром\"\n",
        "    return \"Не палиндром и не почти палиндром\""
      ],
      "metadata": {
        "id": "b2loPDs_JZJO"
      },
      "execution_count": 102,
      "outputs": []
    },
    {
      "cell_type": "code",
      "source": [
        "# тест 1\n",
        "check_almost_palindrome('ABBA')"
      ],
      "metadata": {
        "colab": {
          "base_uri": "https://localhost:8080/",
          "height": 35
        },
        "id": "2BqK-Ro3kkUS",
        "outputId": "75935d61-092c-4ac5-ab53-36c1a9135101"
      },
      "execution_count": 103,
      "outputs": [
        {
          "output_type": "execute_result",
          "data": {
            "text/plain": [
              "'Палиндром'"
            ],
            "application/vnd.google.colaboratory.intrinsic+json": {
              "type": "string"
            }
          },
          "metadata": {},
          "execution_count": 103
        }
      ]
    },
    {
      "cell_type": "code",
      "source": [
        "# тест 2\n",
        "check_almost_palindrome('abbcba')"
      ],
      "metadata": {
        "colab": {
          "base_uri": "https://localhost:8080/",
          "height": 35
        },
        "id": "z2x43ijdkkjL",
        "outputId": "1e8f58a9-f45a-4c41-ea76-6224a82b755c"
      },
      "execution_count": 104,
      "outputs": [
        {
          "output_type": "execute_result",
          "data": {
            "text/plain": [
              "'Почти палиндром'"
            ],
            "application/vnd.google.colaboratory.intrinsic+json": {
              "type": "string"
            }
          },
          "metadata": {},
          "execution_count": 104
        }
      ]
    },
    {
      "cell_type": "code",
      "source": [
        "# тест 3\n",
        "check_almost_palindrome('А в Енисее синева')"
      ],
      "metadata": {
        "colab": {
          "base_uri": "https://localhost:8080/",
          "height": 35
        },
        "id": "9frA8-7-kkyn",
        "outputId": "9b597d0c-5a5a-4363-e4e3-95242bad38f6"
      },
      "execution_count": 105,
      "outputs": [
        {
          "output_type": "execute_result",
          "data": {
            "text/plain": [
              "'Палиндром'"
            ],
            "application/vnd.google.colaboratory.intrinsic+json": {
              "type": "string"
            }
          },
          "metadata": {},
          "execution_count": 105
        }
      ]
    },
    {
      "cell_type": "code",
      "source": [
        "# тест 4\n",
        "check_almost_palindrome('abcdefg')"
      ],
      "metadata": {
        "colab": {
          "base_uri": "https://localhost:8080/",
          "height": 35
        },
        "id": "79urwVfolVcZ",
        "outputId": "6ef0af3b-bdf9-48de-d0f5-b2096bf4307d"
      },
      "execution_count": 106,
      "outputs": [
        {
          "output_type": "execute_result",
          "data": {
            "text/plain": [
              "'Не палиндром и не почти палиндром'"
            ],
            "application/vnd.google.colaboratory.intrinsic+json": {
              "type": "string"
            }
          },
          "metadata": {},
          "execution_count": 106
        }
      ]
    },
    {
      "cell_type": "markdown",
      "source": [
        "## Задание 7  \n",
        "**Задача Шредингера**  \n",
        "Разработайте программу, которая «стирает» фрагменты текста в файле. Например:\n",
        "\n",
        "Пользователь указывает файл и процент текста, который нужно удалить (например, 30%).\n",
        "Программа случайно выбирает слова или части абзацев и заменяет их на пробел или ..., сохраняя общий объем документа.  \n",
        "\n",
        "Вход:  \n",
        "«Сегодня солнечный день, и я собираюсь гулять в парке с моими друзьями.»\n",
        "\n",
        "\n",
        "Вывод (удалено ~30%):  \n",
        "«Сегодня ... день, и я собираюсь гулять ... моими друзьями.»"
      ],
      "metadata": {
        "id": "382T-V7qJZV3"
      }
    },
    {
      "cell_type": "code",
      "source": [
        "import random\n",
        "\n",
        "def remove_fragments_from_text(file_path, percentage, exchange_symbol):\n",
        "    \"\"\"\n",
        "    Функция для случайного удаления текста\n",
        "    Параметры:\n",
        "    file_path - путь к входному файлу с текстом,\n",
        "    percentage - параметр процента замены,\n",
        "    exchange_symbol -параметр символа для замены.\n",
        "    \"\"\"\n",
        "    # Читаем текст из файла и разбиваем на слова\n",
        "    with open(file_path, 'r', encoding='utf-8') as file:\n",
        "        text = file.read()\n",
        "\n",
        "    words = text.split()\n",
        "    total_words = len(words)\n",
        "\n",
        "    # Посчитаем сколько слов будет удалено (процент)\n",
        "    number_of_words_to_remove = int(total_words * (percentage / 100))\n",
        "\n",
        "    # Далее выбираем случайным образом, слова которые можем удалить\n",
        "    words_to_remove = random.sample(range(total_words), number_of_words_to_remove)\n",
        "\n",
        "    # Создание нового текста с удаленными словами\n",
        "    new_words = [word if i not in words_to_remove else exchange_symbol for i, word in enumerate(words)]\n",
        "    new_text = ' '.join(new_words)\n",
        "\n",
        "    # Запись нового текста в файл\n",
        "    with open('output.txt', 'w', encoding='utf-8') as output_file:\n",
        "        output_file.write(new_text)\n",
        "\n",
        "    print(f\"Удалено {percentage}% текста. Измененный текст записан в 'output.txt'.\")\n",
        "    print(\"Измененный текст представлен ниже:\")\n",
        "    print(new_text)"
      ],
      "metadata": {
        "id": "VjkCCRq219PT"
      },
      "execution_count": 132,
      "outputs": []
    },
    {
      "cell_type": "code",
      "source": [
        "# тест 1\n",
        "with open('input.txt', 'w', encoding='utf-8') as f:\n",
        "    text =\"Сегодня солнечный день, и я собираюсь гулять в парке с моими друзьями.\"\n",
        "    f.write(text)\n",
        "\n",
        "percentage = 30  # Процент текста для удаления\n",
        "exchange_symbol = \"...\" # Параметр символа для замены\n",
        "remove_fragments_from_text('input.txt', percentage, exchange_symbol)"
      ],
      "metadata": {
        "colab": {
          "base_uri": "https://localhost:8080/"
        },
        "id": "Cw90PUId2eNK",
        "outputId": "61a36f45-de44-4463-c46d-3f10141c558a"
      },
      "execution_count": 133,
      "outputs": [
        {
          "output_type": "stream",
          "name": "stdout",
          "text": [
            "Удалено 30% текста. Измененный текст записан в 'output.txt'.\n",
            "Измененный текст представлен ниже:\n",
            "Сегодня солнечный ... и я собираюсь гулять ... парке с моими ...\n"
          ]
        }
      ]
    },
    {
      "cell_type": "code",
      "source": [
        "# тест 2\n",
        "with open('input.txt', 'w', encoding='utf-8') as f:\n",
        "    text =\"Сегодня прекрасный солнечный день, птички поют и летают в парке\"\n",
        "    f.write(text)\n",
        "\n",
        "percentage = 50  # Процент текста для удаления\n",
        "exchange_symbol = \" \" # Параметр символа для замены\n",
        "remove_fragments_from_text('input.txt', percentage, exchange_symbol)"
      ],
      "metadata": {
        "colab": {
          "base_uri": "https://localhost:8080/"
        },
        "id": "KuHs_cWe3pzq",
        "outputId": "92199c90-ffe4-4233-ffc6-48f60d3ad056"
      },
      "execution_count": 135,
      "outputs": [
        {
          "output_type": "stream",
          "name": "stdout",
          "text": [
            "Удалено 50% текста. Измененный текст записан в 'output.txt'.\n",
            "Измененный текст представлен ниже:\n",
            "Сегодня       птички поют   летают   парке\n"
          ]
        }
      ]
    }
  ]
}